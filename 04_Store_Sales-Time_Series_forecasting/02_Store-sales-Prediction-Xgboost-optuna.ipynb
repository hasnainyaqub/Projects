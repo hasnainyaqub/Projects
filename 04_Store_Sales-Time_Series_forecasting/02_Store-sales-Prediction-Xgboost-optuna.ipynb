{
 "cells": [
  {
   "cell_type": "markdown",
   "id": "fc9709b1",
   "metadata": {
    "id": "c0f16d20",
    "papermill": {
     "duration": 0.004386,
     "end_time": "2025-07-21T05:52:40.709125",
     "exception": false,
     "start_time": "2025-07-21T05:52:40.704739",
     "status": "completed"
    },
    "tags": []
   },
   "source": [
    "# Store Sales Competetion\n"
   ]
  },
  {
   "cell_type": "markdown",
   "id": "437e91e4",
   "metadata": {
    "id": "ded9b956",
    "papermill": {
     "duration": 0.00332,
     "end_time": "2025-07-21T05:52:40.715996",
     "exception": false,
     "start_time": "2025-07-21T05:52:40.712676",
     "status": "completed"
    },
    "tags": []
   },
   "source": [
    "# Importing Libraries"
   ]
  },
  {
   "cell_type": "code",
   "execution_count": 1,
   "id": "8723b266",
   "metadata": {
    "execution": {
     "iopub.execute_input": "2025-07-21T05:52:40.723653Z",
     "iopub.status.busy": "2025-07-21T05:52:40.723409Z",
     "iopub.status.idle": "2025-07-21T05:52:43.561885Z",
     "shell.execute_reply": "2025-07-21T05:52:43.561274Z"
    },
    "id": "46ac891b",
    "papermill": {
     "duration": 2.843949,
     "end_time": "2025-07-21T05:52:43.563354",
     "exception": false,
     "start_time": "2025-07-21T05:52:40.719405",
     "status": "completed"
    },
    "tags": []
   },
   "outputs": [],
   "source": [
    "import pandas as pd\n",
    "import numpy as np\n",
    "import seaborn as sns\n",
    "import matplotlib.pyplot as plt"
   ]
  },
  {
   "cell_type": "code",
   "execution_count": 2,
   "id": "0b97d1e3",
   "metadata": {
    "execution": {
     "iopub.execute_input": "2025-07-21T05:52:43.571505Z",
     "iopub.status.busy": "2025-07-21T05:52:43.571198Z",
     "iopub.status.idle": "2025-07-21T05:52:55.825276Z",
     "shell.execute_reply": "2025-07-21T05:52:55.824593Z"
    },
    "id": "da1cdd8f",
    "outputId": "e902c4e0-6710-4da8-95c4-6be22a5f605c",
    "papermill": {
     "duration": 12.259669,
     "end_time": "2025-07-21T05:52:55.826587",
     "exception": false,
     "start_time": "2025-07-21T05:52:43.566918",
     "status": "completed"
    },
    "tags": []
   },
   "outputs": [
    {
     "data": {
      "text/html": [
       "<div>\n",
       "<style scoped>\n",
       "    .dataframe tbody tr th:only-of-type {\n",
       "        vertical-align: middle;\n",
       "    }\n",
       "\n",
       "    .dataframe tbody tr th {\n",
       "        vertical-align: top;\n",
       "    }\n",
       "\n",
       "    .dataframe thead th {\n",
       "        text-align: right;\n",
       "    }\n",
       "</style>\n",
       "<table border=\"1\" class=\"dataframe\">\n",
       "  <thead>\n",
       "    <tr style=\"text-align: right;\">\n",
       "      <th></th>\n",
       "      <th>id</th>\n",
       "      <th>date</th>\n",
       "      <th>store_nbr</th>\n",
       "      <th>family</th>\n",
       "      <th>sales</th>\n",
       "      <th>onpromotion</th>\n",
       "      <th>city</th>\n",
       "      <th>state</th>\n",
       "      <th>type</th>\n",
       "      <th>cluster</th>\n",
       "      <th>dcoilwtico</th>\n",
       "      <th>holiday_flag</th>\n",
       "      <th>transactions</th>\n",
       "    </tr>\n",
       "  </thead>\n",
       "  <tbody>\n",
       "    <tr>\n",
       "      <th>0</th>\n",
       "      <td>0</td>\n",
       "      <td>2013-01-01</td>\n",
       "      <td>1</td>\n",
       "      <td>AUTOMOTIVE</td>\n",
       "      <td>0.0</td>\n",
       "      <td>0</td>\n",
       "      <td>Quito</td>\n",
       "      <td>Pichincha</td>\n",
       "      <td>D</td>\n",
       "      <td>13</td>\n",
       "      <td>71.012254</td>\n",
       "      <td>1.0</td>\n",
       "      <td>0.0</td>\n",
       "    </tr>\n",
       "    <tr>\n",
       "      <th>1</th>\n",
       "      <td>1</td>\n",
       "      <td>2013-01-01</td>\n",
       "      <td>1</td>\n",
       "      <td>BABY CARE</td>\n",
       "      <td>0.0</td>\n",
       "      <td>0</td>\n",
       "      <td>Quito</td>\n",
       "      <td>Pichincha</td>\n",
       "      <td>D</td>\n",
       "      <td>13</td>\n",
       "      <td>71.012254</td>\n",
       "      <td>1.0</td>\n",
       "      <td>0.0</td>\n",
       "    </tr>\n",
       "    <tr>\n",
       "      <th>2</th>\n",
       "      <td>2</td>\n",
       "      <td>2013-01-01</td>\n",
       "      <td>1</td>\n",
       "      <td>BEAUTY</td>\n",
       "      <td>0.0</td>\n",
       "      <td>0</td>\n",
       "      <td>Quito</td>\n",
       "      <td>Pichincha</td>\n",
       "      <td>D</td>\n",
       "      <td>13</td>\n",
       "      <td>71.012254</td>\n",
       "      <td>1.0</td>\n",
       "      <td>0.0</td>\n",
       "    </tr>\n",
       "    <tr>\n",
       "      <th>3</th>\n",
       "      <td>3</td>\n",
       "      <td>2013-01-01</td>\n",
       "      <td>1</td>\n",
       "      <td>BEVERAGES</td>\n",
       "      <td>0.0</td>\n",
       "      <td>0</td>\n",
       "      <td>Quito</td>\n",
       "      <td>Pichincha</td>\n",
       "      <td>D</td>\n",
       "      <td>13</td>\n",
       "      <td>71.012254</td>\n",
       "      <td>1.0</td>\n",
       "      <td>0.0</td>\n",
       "    </tr>\n",
       "    <tr>\n",
       "      <th>4</th>\n",
       "      <td>4</td>\n",
       "      <td>2013-01-01</td>\n",
       "      <td>1</td>\n",
       "      <td>BOOKS</td>\n",
       "      <td>0.0</td>\n",
       "      <td>0</td>\n",
       "      <td>Quito</td>\n",
       "      <td>Pichincha</td>\n",
       "      <td>D</td>\n",
       "      <td>13</td>\n",
       "      <td>71.012254</td>\n",
       "      <td>1.0</td>\n",
       "      <td>0.0</td>\n",
       "    </tr>\n",
       "  </tbody>\n",
       "</table>\n",
       "</div>"
      ],
      "text/plain": [
       "   id        date  store_nbr      family  sales  onpromotion   city  \\\n",
       "0   0  2013-01-01          1  AUTOMOTIVE    0.0            0  Quito   \n",
       "1   1  2013-01-01          1   BABY CARE    0.0            0  Quito   \n",
       "2   2  2013-01-01          1      BEAUTY    0.0            0  Quito   \n",
       "3   3  2013-01-01          1   BEVERAGES    0.0            0  Quito   \n",
       "4   4  2013-01-01          1       BOOKS    0.0            0  Quito   \n",
       "\n",
       "       state type  cluster  dcoilwtico  holiday_flag  transactions  \n",
       "0  Pichincha    D       13   71.012254           1.0           0.0  \n",
       "1  Pichincha    D       13   71.012254           1.0           0.0  \n",
       "2  Pichincha    D       13   71.012254           1.0           0.0  \n",
       "3  Pichincha    D       13   71.012254           1.0           0.0  \n",
       "4  Pichincha    D       13   71.012254           1.0           0.0  "
      ]
     },
     "execution_count": 2,
     "metadata": {},
     "output_type": "execute_result"
    }
   ],
   "source": [
    "import pandas as pd\n",
    "from sklearn.experimental import enable_iterative_imputer\n",
    "from sklearn.impute import IterativeImputer\n",
    "# Events\n",
    "# Step 1: Load all required CSV files\n",
    "train = pd.read_csv('train.csv')\n",
    "stores = pd.read_csv('stores.csv')\n",
    "oil = pd.read_csv('oil.csv')\n",
    "holidays = pd.read_csv('holidays_events.csv')\n",
    "transactions = pd.read_csv('transactions.csv')\n",
    "\n",
    "# Step 2: Merge stores.csv (based on 'store_nbr')\n",
    "train = train.merge(stores, on='store_nbr', how='left')\n",
    "\n",
    "# Step 3: Merge oil.csv (based on 'date')\n",
    "train = train.merge(oil[['date', 'dcoilwtico']], on='date', how='left')\n",
    "\n",
    "# Step 4: Prepare and merge holidays_events.csv\n",
    "# Create a flag column\n",
    "holidays['holiday_flag'] = 1\n",
    "\n",
    "# Optionally filter for only real holidays\n",
    "# holidays = holidays[(holidays['type'] == 'Holiday') & (holidays['locale'] == 'National')]\n",
    "\n",
    "# Merge with train\n",
    "train = train.merge(holidays[['date', 'holiday_flag']], on='date', how='left')\n",
    "\n",
    "# Step 5: Merge transactions.csv\n",
    "train = train.merge(transactions, on=['date', 'store_nbr'], how='left')\n",
    "\n",
    "# Step 6: Fill missing values\n",
    "# 6.1 Fill holiday_flag with 0 (non-holiday)\n",
    "train['holiday_flag'] = train['holiday_flag'].fillna(0)\n",
    "\n",
    "# 6.2 Fill transactions with 0 (assume no transaction info = no transactions)\n",
    "train['transactions'] = train['transactions'].fillna(0)\n",
    "\n",
    "# 6.3 Use Iterative Imputer for dcoilwtico (oil price)\n",
    "def fill_oil_with_iterative_imputer(df):\n",
    "    imputer = IterativeImputer(random_state=42)\n",
    "    cols_for_imputation = ['dcoilwtico', 'transactions', 'sales', 'onpromotion']\n",
    "    used_cols = [col for col in cols_for_imputation if col in df.columns]\n",
    "\n",
    "    temp_df = df[used_cols]\n",
    "    imputed_array = imputer.fit_transform(temp_df)\n",
    "\n",
    "    df['dcoilwtico'] = imputed_array[:, used_cols.index('dcoilwtico')]\n",
    "    return df\n",
    "\n",
    "train = fill_oil_with_iterative_imputer(train)\n",
    "\n",
    "# Final cleaned dataframe ready!\n",
    "train.head()"
   ]
  },
  {
   "cell_type": "code",
   "execution_count": 3,
   "id": "ea2bd41f",
   "metadata": {
    "execution": {
     "iopub.execute_input": "2025-07-21T05:52:55.835326Z",
     "iopub.status.busy": "2025-07-21T05:52:55.834691Z",
     "iopub.status.idle": "2025-07-21T05:52:55.846367Z",
     "shell.execute_reply": "2025-07-21T05:52:55.845670Z"
    },
    "id": "pacZp3W_eZ87",
    "outputId": "9eccd222-2af2-42f4-c284-a5d2e88bb66f",
    "papermill": {
     "duration": 0.016902,
     "end_time": "2025-07-21T05:52:55.847433",
     "exception": false,
     "start_time": "2025-07-21T05:52:55.830531",
     "status": "completed"
    },
    "tags": []
   },
   "outputs": [
    {
     "data": {
      "text/html": [
       "<div>\n",
       "<style scoped>\n",
       "    .dataframe tbody tr th:only-of-type {\n",
       "        vertical-align: middle;\n",
       "    }\n",
       "\n",
       "    .dataframe tbody tr th {\n",
       "        vertical-align: top;\n",
       "    }\n",
       "\n",
       "    .dataframe thead th {\n",
       "        text-align: right;\n",
       "    }\n",
       "</style>\n",
       "<table border=\"1\" class=\"dataframe\">\n",
       "  <thead>\n",
       "    <tr style=\"text-align: right;\">\n",
       "      <th></th>\n",
       "      <th>id</th>\n",
       "      <th>date</th>\n",
       "      <th>store_nbr</th>\n",
       "      <th>family</th>\n",
       "      <th>sales</th>\n",
       "      <th>onpromotion</th>\n",
       "      <th>city</th>\n",
       "      <th>state</th>\n",
       "      <th>type</th>\n",
       "      <th>cluster</th>\n",
       "      <th>dcoilwtico</th>\n",
       "      <th>holiday_flag</th>\n",
       "      <th>transactions</th>\n",
       "    </tr>\n",
       "  </thead>\n",
       "  <tbody>\n",
       "    <tr>\n",
       "      <th>3054343</th>\n",
       "      <td>3000883</td>\n",
       "      <td>2017-08-15</td>\n",
       "      <td>9</td>\n",
       "      <td>POULTRY</td>\n",
       "      <td>438.133</td>\n",
       "      <td>0</td>\n",
       "      <td>Quito</td>\n",
       "      <td>Pichincha</td>\n",
       "      <td>B</td>\n",
       "      <td>6</td>\n",
       "      <td>47.57</td>\n",
       "      <td>1.0</td>\n",
       "      <td>2155.0</td>\n",
       "    </tr>\n",
       "    <tr>\n",
       "      <th>3054344</th>\n",
       "      <td>3000884</td>\n",
       "      <td>2017-08-15</td>\n",
       "      <td>9</td>\n",
       "      <td>PREPARED FOODS</td>\n",
       "      <td>154.553</td>\n",
       "      <td>1</td>\n",
       "      <td>Quito</td>\n",
       "      <td>Pichincha</td>\n",
       "      <td>B</td>\n",
       "      <td>6</td>\n",
       "      <td>47.57</td>\n",
       "      <td>1.0</td>\n",
       "      <td>2155.0</td>\n",
       "    </tr>\n",
       "    <tr>\n",
       "      <th>3054345</th>\n",
       "      <td>3000885</td>\n",
       "      <td>2017-08-15</td>\n",
       "      <td>9</td>\n",
       "      <td>PRODUCE</td>\n",
       "      <td>2419.729</td>\n",
       "      <td>148</td>\n",
       "      <td>Quito</td>\n",
       "      <td>Pichincha</td>\n",
       "      <td>B</td>\n",
       "      <td>6</td>\n",
       "      <td>47.57</td>\n",
       "      <td>1.0</td>\n",
       "      <td>2155.0</td>\n",
       "    </tr>\n",
       "    <tr>\n",
       "      <th>3054346</th>\n",
       "      <td>3000886</td>\n",
       "      <td>2017-08-15</td>\n",
       "      <td>9</td>\n",
       "      <td>SCHOOL AND OFFICE SUPPLIES</td>\n",
       "      <td>121.000</td>\n",
       "      <td>8</td>\n",
       "      <td>Quito</td>\n",
       "      <td>Pichincha</td>\n",
       "      <td>B</td>\n",
       "      <td>6</td>\n",
       "      <td>47.57</td>\n",
       "      <td>1.0</td>\n",
       "      <td>2155.0</td>\n",
       "    </tr>\n",
       "    <tr>\n",
       "      <th>3054347</th>\n",
       "      <td>3000887</td>\n",
       "      <td>2017-08-15</td>\n",
       "      <td>9</td>\n",
       "      <td>SEAFOOD</td>\n",
       "      <td>16.000</td>\n",
       "      <td>0</td>\n",
       "      <td>Quito</td>\n",
       "      <td>Pichincha</td>\n",
       "      <td>B</td>\n",
       "      <td>6</td>\n",
       "      <td>47.57</td>\n",
       "      <td>1.0</td>\n",
       "      <td>2155.0</td>\n",
       "    </tr>\n",
       "  </tbody>\n",
       "</table>\n",
       "</div>"
      ],
      "text/plain": [
       "              id        date  store_nbr                      family     sales  \\\n",
       "3054343  3000883  2017-08-15          9                     POULTRY   438.133   \n",
       "3054344  3000884  2017-08-15          9              PREPARED FOODS   154.553   \n",
       "3054345  3000885  2017-08-15          9                     PRODUCE  2419.729   \n",
       "3054346  3000886  2017-08-15          9  SCHOOL AND OFFICE SUPPLIES   121.000   \n",
       "3054347  3000887  2017-08-15          9                     SEAFOOD    16.000   \n",
       "\n",
       "         onpromotion   city      state type  cluster  dcoilwtico  \\\n",
       "3054343            0  Quito  Pichincha    B        6       47.57   \n",
       "3054344            1  Quito  Pichincha    B        6       47.57   \n",
       "3054345          148  Quito  Pichincha    B        6       47.57   \n",
       "3054346            8  Quito  Pichincha    B        6       47.57   \n",
       "3054347            0  Quito  Pichincha    B        6       47.57   \n",
       "\n",
       "         holiday_flag  transactions  \n",
       "3054343           1.0        2155.0  \n",
       "3054344           1.0        2155.0  \n",
       "3054345           1.0        2155.0  \n",
       "3054346           1.0        2155.0  \n",
       "3054347           1.0        2155.0  "
      ]
     },
     "execution_count": 3,
     "metadata": {},
     "output_type": "execute_result"
    }
   ],
   "source": [
    "train.tail()"
   ]
  },
  {
   "cell_type": "code",
   "execution_count": 4,
   "id": "c5e372c7",
   "metadata": {
    "execution": {
     "iopub.execute_input": "2025-07-21T05:52:55.856211Z",
     "iopub.status.busy": "2025-07-21T05:52:55.855977Z",
     "iopub.status.idle": "2025-07-21T05:52:55.859993Z",
     "shell.execute_reply": "2025-07-21T05:52:55.859410Z"
    },
    "id": "b1f1b6c9",
    "outputId": "99e63fe2-7dc4-444a-cf00-e06edd507bc5",
    "papermill": {
     "duration": 0.009399,
     "end_time": "2025-07-21T05:52:55.861086",
     "exception": false,
     "start_time": "2025-07-21T05:52:55.851687",
     "status": "completed"
    },
    "tags": []
   },
   "outputs": [
    {
     "name": "stdout",
     "output_type": "stream",
     "text": [
      "Train data shape after merging (3054348, 13)\n"
     ]
    }
   ],
   "source": [
    "print(f\"Train data shape after merging {train.shape}\")"
   ]
  },
  {
   "cell_type": "code",
   "execution_count": null,
   "id": "40089e8d",
   "metadata": {
    "execution": {
     "iopub.execute_input": "2025-07-21T05:52:55.869686Z",
     "iopub.status.busy": "2025-07-21T05:52:55.869252Z",
     "iopub.status.idle": "2025-07-21T05:52:55.897931Z",
     "shell.execute_reply": "2025-07-21T05:52:55.897142Z"
    },
    "id": "6oIRpMssdkNv",
    "papermill": {
     "duration": 0.034305,
     "end_time": "2025-07-21T05:52:55.899272",
     "exception": false,
     "start_time": "2025-07-21T05:52:55.864967",
     "status": "completed"
    },
    "tags": []
   },
   "outputs": [],
   "source": [
    "test_df = pd.read_csv('test.csv')"
   ]
  },
  {
   "cell_type": "code",
   "execution_count": 6,
   "id": "1b4a5904",
   "metadata": {
    "execution": {
     "iopub.execute_input": "2025-07-21T05:52:55.907849Z",
     "iopub.status.busy": "2025-07-21T05:52:55.907651Z",
     "iopub.status.idle": "2025-07-21T05:52:55.911303Z",
     "shell.execute_reply": "2025-07-21T05:52:55.910510Z"
    },
    "id": "-a6gTVdjdm94",
    "outputId": "f7b6e94a-b7d3-4ced-8447-ee8da72d2ccd",
    "papermill": {
     "duration": 0.009114,
     "end_time": "2025-07-21T05:52:55.912422",
     "exception": false,
     "start_time": "2025-07-21T05:52:55.903308",
     "status": "completed"
    },
    "tags": []
   },
   "outputs": [
    {
     "name": "stdout",
     "output_type": "stream",
     "text": [
      "Test data (28512, 5)\n"
     ]
    }
   ],
   "source": [
    "print(f\"Test data {test_df.shape}\")"
   ]
  },
  {
   "cell_type": "code",
   "execution_count": 7,
   "id": "51da3110",
   "metadata": {
    "execution": {
     "iopub.execute_input": "2025-07-21T05:52:55.921713Z",
     "iopub.status.busy": "2025-07-21T05:52:55.921312Z",
     "iopub.status.idle": "2025-07-21T05:52:56.471004Z",
     "shell.execute_reply": "2025-07-21T05:52:56.470301Z"
    },
    "id": "db3fbe3e",
    "papermill": {
     "duration": 0.555306,
     "end_time": "2025-07-21T05:52:56.472466",
     "exception": false,
     "start_time": "2025-07-21T05:52:55.917160",
     "status": "completed"
    },
    "tags": []
   },
   "outputs": [],
   "source": [
    "train['date'] = pd.to_datetime(train['date'])\n",
    "\n",
    "train['day'] = train['date'].dt.day\n",
    "train['month'] = train['date'].dt.month\n",
    "train['year'] = train['date'].dt.year\n",
    "train['weekday'] = train['date'].dt.weekday\n",
    "train['is_weekend'] = train['weekday'].isin([5, 6]).astype(int)"
   ]
  },
  {
   "cell_type": "code",
   "execution_count": 8,
   "id": "a02e82c4",
   "metadata": {
    "execution": {
     "iopub.execute_input": "2025-07-21T05:52:56.481933Z",
     "iopub.status.busy": "2025-07-21T05:52:56.481657Z",
     "iopub.status.idle": "2025-07-21T05:52:58.261678Z",
     "shell.execute_reply": "2025-07-21T05:52:58.261075Z"
    },
    "id": "7dea5575",
    "papermill": {
     "duration": 1.7862,
     "end_time": "2025-07-21T05:52:58.263119",
     "exception": false,
     "start_time": "2025-07-21T05:52:56.476919",
     "status": "completed"
    },
    "tags": []
   },
   "outputs": [],
   "source": [
    "from sklearn.preprocessing import LabelEncoder\n",
    "\n",
    "le = LabelEncoder()\n",
    "for col in ['family', 'city', 'state', 'type']:\n",
    "    train[col] = le.fit_transform(train[col])"
   ]
  },
  {
   "cell_type": "code",
   "execution_count": 9,
   "id": "485d83af",
   "metadata": {
    "execution": {
     "iopub.execute_input": "2025-07-21T05:52:58.271701Z",
     "iopub.status.busy": "2025-07-21T05:52:58.271480Z",
     "iopub.status.idle": "2025-07-21T05:52:58.275123Z",
     "shell.execute_reply": "2025-07-21T05:52:58.274419Z"
    },
    "id": "b7e1800f",
    "papermill": {
     "duration": 0.009041,
     "end_time": "2025-07-21T05:52:58.276215",
     "exception": false,
     "start_time": "2025-07-21T05:52:58.267174",
     "status": "completed"
    },
    "tags": []
   },
   "outputs": [],
   "source": [
    "features = [\n",
    "    'store_nbr', 'family', 'onpromotion', 'transactions',\n",
    "    'dcoilwtico', 'holiday_flag', 'cluster', 'type',\n",
    "    'day', 'month', 'year', 'weekday', 'is_weekend'\n",
    "]\n",
    "\n",
    "target = 'sales'"
   ]
  },
  {
   "cell_type": "code",
   "execution_count": 10,
   "id": "901ebeb4",
   "metadata": {
    "execution": {
     "iopub.execute_input": "2025-07-21T05:52:58.284291Z",
     "iopub.status.busy": "2025-07-21T05:52:58.284118Z",
     "iopub.status.idle": "2025-07-21T05:52:59.287166Z",
     "shell.execute_reply": "2025-07-21T05:52:59.286531Z"
    },
    "id": "089236b5",
    "papermill": {
     "duration": 1.008709,
     "end_time": "2025-07-21T05:52:59.288658",
     "exception": false,
     "start_time": "2025-07-21T05:52:58.279949",
     "status": "completed"
    },
    "tags": []
   },
   "outputs": [],
   "source": [
    "from sklearn.ensemble import RandomForestRegressor\n",
    "from sklearn.model_selection import train_test_split\n",
    "from sklearn.metrics import mean_squared_log_error\n",
    "import numpy as np\n",
    "\n",
    "X = train[features]\n",
    "y = train[target]\n",
    "\n",
    "X_train, X_val, y_train, y_val = train_test_split(X, y, test_size=0.2, random_state=42)"
   ]
  },
  {
   "cell_type": "code",
   "execution_count": 11,
   "id": "75469ccf",
   "metadata": {
    "execution": {
     "iopub.execute_input": "2025-07-21T05:52:59.297975Z",
     "iopub.status.busy": "2025-07-21T05:52:59.297714Z",
     "iopub.status.idle": "2025-07-21T05:53:00.384396Z",
     "shell.execute_reply": "2025-07-21T05:53:00.383777Z"
    },
    "id": "UWF_eDJAfDRD",
    "papermill": {
     "duration": 1.092627,
     "end_time": "2025-07-21T05:53:00.385729",
     "exception": false,
     "start_time": "2025-07-21T05:52:59.293102",
     "status": "completed"
    },
    "tags": []
   },
   "outputs": [],
   "source": [
    "# Sort by date\n",
    "train = train.sort_values('date')\n",
    "\n",
    "# Set a cutoff date for validation — e.g., last 3 months of data for validation\n",
    "cutoff_date = '2017-05-01'\n",
    "\n",
    "# Time-based split\n",
    "X_train = train[train['date'] < cutoff_date][features]\n",
    "y_train = train[train['date'] < cutoff_date][target]\n",
    "\n",
    "X_val = train[train['date'] >= cutoff_date][features]\n",
    "y_val = train[train['date'] >= cutoff_date][target]\n"
   ]
  },
  {
   "cell_type": "code",
   "execution_count": 12,
   "id": "05f7a4d8",
   "metadata": {
    "execution": {
     "iopub.execute_input": "2025-07-21T05:53:00.394729Z",
     "iopub.status.busy": "2025-07-21T05:53:00.394509Z",
     "iopub.status.idle": "2025-07-21T05:53:00.790673Z",
     "shell.execute_reply": "2025-07-21T05:53:00.790027Z"
    },
    "id": "5elf4X6kfgiy",
    "outputId": "fa5ec4b8-a10f-4f26-ebd4-cdbe8bd16dc0",
    "papermill": {
     "duration": 0.402635,
     "end_time": "2025-07-21T05:53:00.792519",
     "exception": false,
     "start_time": "2025-07-21T05:53:00.389884",
     "status": "completed"
    },
    "tags": []
   },
   "outputs": [
    {
     "data": {
      "image/png": "[encoded data removed]",
      "text/plain": [
       "<Figure size 1200x400 with 1 Axes>"
      ]
     },
     "metadata": {},
     "output_type": "display_data"
    }
   ],
   "source": [
    "import matplotlib.pyplot as plt\n",
    "\n",
    "train.groupby('date')['sales'].sum().plot(figsize=(12,4), title=\"Total Sales Over Time\")\n",
    "plt.axvline(pd.to_datetime(cutoff_date), color='red', linestyle='--', label='Validation Start')\n",
    "plt.legend()\n",
    "plt.show()\n"
   ]
  },
  {
   "cell_type": "code",
   "execution_count": null,
   "id": "c3b51f84",
   "metadata": {
    "execution": {
     "iopub.execute_input": "2025-07-21T05:53:00.803220Z",
     "iopub.status.busy": "2025-07-21T05:53:00.802770Z",
     "iopub.status.idle": "2025-07-21T05:53:00.856285Z",
     "shell.execute_reply": "2025-07-21T05:53:00.855406Z"
    },
    "id": "I4EvRo8OfxGO",
    "papermill": {
     "duration": 0.060077,
     "end_time": "2025-07-21T05:53:00.857655",
     "exception": false,
     "start_time": "2025-07-21T05:53:00.797578",
     "status": "completed"
    },
    "tags": []
   },
   "outputs": [],
   "source": [
    "# Step 1: Load the test set\n",
    "test = pd.read_csv('test.csv')  # should contain ['id', 'date', 'store_nbr', 'family', 'onpromotion']\n",
    "\n",
    "# Step 2: Merge with stores\n",
    "test = test.merge(stores, on='store_nbr', how='left')\n",
    "\n",
    "# Step 3: Merge with oil prices\n",
    "test = test.merge(oil[['date', 'dcoilwtico']], on='date', how='left')\n",
    "\n",
    "# Step 4: Merge with holidays\n",
    "test = test.merge(holidays[['date', 'holiday_flag']], on='date', how='left')\n",
    "test['holiday_flag'] = test['holiday_flag'].fillna(0)\n",
    "\n",
    "# Step 5: Merge with transactions\n",
    "test = test.merge(transactions, on=['date', 'store_nbr'], how='left')\n",
    "test['transactions'] = test['transactions'].fillna(0)\n"
   ]
  },
  {
   "cell_type": "code",
   "execution_count": 14,
   "id": "e9c7f05b",
   "metadata": {
    "execution": {
     "iopub.execute_input": "2025-07-21T05:53:00.869229Z",
     "iopub.status.busy": "2025-07-21T05:53:00.869021Z",
     "iopub.status.idle": "2025-07-21T05:53:02.679146Z",
     "shell.execute_reply": "2025-07-21T05:53:02.678509Z"
    },
    "id": "Ia26wqNifzBz",
    "papermill": {
     "duration": 1.817397,
     "end_time": "2025-07-21T05:53:02.680549",
     "exception": false,
     "start_time": "2025-07-21T05:53:00.863152",
     "status": "completed"
    },
    "tags": []
   },
   "outputs": [],
   "source": [
    "# Fill missing oil prices using IterativeImputer (same as training)\n",
    "def fill_oil_with_iterative_imputer_test(df, train_ref):\n",
    "    imputer = IterativeImputer(random_state=42)\n",
    "    used_cols = ['dcoilwtico', 'transactions', 'onpromotion']\n",
    "\n",
    "    # Use training data to fit imputer\n",
    "    imputer.fit(train_ref[used_cols])\n",
    "\n",
    "    imputed_array = imputer.transform(df[used_cols])\n",
    "    df['dcoilwtico'] = imputed_array[:, used_cols.index('dcoilwtico')]\n",
    "    return df\n",
    "\n",
    "test = fill_oil_with_iterative_imputer_test(test, train)\n"
   ]
  },
  {
   "cell_type": "code",
   "execution_count": 15,
   "id": "a76d7b82",
   "metadata": {
    "execution": {
     "iopub.execute_input": "2025-07-21T05:53:02.691713Z",
     "iopub.status.busy": "2025-07-21T05:53:02.690957Z",
     "iopub.status.idle": "2025-07-21T05:53:02.706686Z",
     "shell.execute_reply": "2025-07-21T05:53:02.706017Z"
    },
    "id": "JNt-ShSuf8pS",
    "papermill": {
     "duration": 0.022245,
     "end_time": "2025-07-21T05:53:02.707771",
     "exception": false,
     "start_time": "2025-07-21T05:53:02.685526",
     "status": "completed"
    },
    "tags": []
   },
   "outputs": [],
   "source": [
    "test['date'] = pd.to_datetime(test['date'])\n",
    "test['day'] = test['date'].dt.day\n",
    "test['month'] = test['date'].dt.month\n",
    "test['year'] = test['date'].dt.year\n",
    "test['weekday'] = test['date'].dt.weekday\n",
    "test['is_weekend'] = test['weekday'].isin([5, 6]).astype(int)\n"
   ]
  },
  {
   "cell_type": "code",
   "execution_count": 16,
   "id": "b7419e93",
   "metadata": {
    "execution": {
     "iopub.execute_input": "2025-07-21T05:53:02.717763Z",
     "iopub.status.busy": "2025-07-21T05:53:02.717555Z",
     "iopub.status.idle": "2025-07-21T05:53:02.738112Z",
     "shell.execute_reply": "2025-07-21T05:53:02.737518Z"
    },
    "id": "EHkmd-qrgC7t",
    "papermill": {
     "duration": 0.026783,
     "end_time": "2025-07-21T05:53:02.739272",
     "exception": false,
     "start_time": "2025-07-21T05:53:02.712489",
     "status": "completed"
    },
    "tags": []
   },
   "outputs": [],
   "source": [
    "# Apply same label encoding (train should include all possible categories!)\n",
    "for col in ['family', 'city', 'state', 'type']:\n",
    "    test[col] = le.fit_transform(test[col])\n"
   ]
  },
  {
   "cell_type": "markdown",
   "id": "41ef8ddb",
   "metadata": {
    "papermill": {
     "duration": 0.004411,
     "end_time": "2025-07-21T05:53:02.748592",
     "exception": false,
     "start_time": "2025-07-21T05:53:02.744181",
     "status": "completed"
    },
    "tags": []
   },
   "source": [
    "# Models with optuna"
   ]
  },
  {
   "cell_type": "code",
   "execution_count": 17,
   "id": "353ad2cc",
   "metadata": {
    "execution": {
     "iopub.execute_input": "2025-07-21T05:53:02.758659Z",
     "iopub.status.busy": "2025-07-21T05:53:02.758434Z",
     "iopub.status.idle": "2025-07-21T06:13:23.662167Z",
     "shell.execute_reply": "2025-07-21T06:13:23.661253Z"
    },
    "papermill": {
     "duration": 1220.919032,
     "end_time": "2025-07-21T06:13:23.672095",
     "exception": false,
     "start_time": "2025-07-21T05:53:02.753063",
     "status": "completed"
    },
    "tags": []
   },
   "outputs": [
    {
     "name": "stderr",
     "output_type": "stream",
     "text": [
      "[I 2025-07-21 05:53:07,708] A new study created in memory with name: no-name-e14af1a8-7173-4ada-886a-bcad06d8b918\n",
      "[I 2025-07-21 05:53:16,035] Trial 0 finished with value: -1.271986418418957 and parameters: {'model': 'xgb', 'n_estimators': 572, 'max_depth': 7, 'learning_rate': 0.1713446368057905, 'subsample': 0.6799561559063717, 'colsample_bytree': 0.8749231946386525, 'gamma': 1.2689496802608302, 'reg_alpha': 3.4683157625392056, 'reg_lambda': 1.527624018421746}. Best is trial 0 with value: -1.271986418418957.\n",
      "[I 2025-07-21 05:53:54,982] Trial 1 finished with value: -1.0017795540688634 and parameters: {'model': 'xgb', 'n_estimators': 481, 'max_depth': 12, 'learning_rate': 0.11962748071419878, 'subsample': 0.8084216470502439, 'colsample_bytree': 0.913769479166713, 'gamma': 1.6399720953537726, 'reg_alpha': 1.2336759600980547, 'reg_lambda': 1.871422521721664}. Best is trial 1 with value: -1.0017795540688634.\n",
      "[I 2025-07-21 05:54:04,403] Trial 2 finished with value: -1.3601164984197094 and parameters: {'model': 'xgb', 'n_estimators': 374, 'max_depth': 9, 'learning_rate': 0.0304821616119793, 'subsample': 0.7483181626591368, 'colsample_bytree': 0.6608780046875905, 'gamma': 2.042140187154489, 'reg_alpha': 1.1810986112992883, 'reg_lambda': 1.9412188050863688}. Best is trial 1 with value: -1.0017795540688634.\n",
      "[I 2025-07-21 05:54:13,821] Trial 3 finished with value: -1.4276939688945436 and parameters: {'model': 'xgb', 'n_estimators': 706, 'max_depth': 7, 'learning_rate': 0.24738294074767275, 'subsample': 0.8869659932289204, 'colsample_bytree': 0.6085798429850157, 'gamma': 3.101747049502012, 'reg_alpha': 4.337828744982311, 'reg_lambda': 2.7385776097399828}. Best is trial 1 with value: -1.0017795540688634.\n",
      "[I 2025-07-21 05:54:19,975] Trial 4 finished with value: -1.6079180561188886 and parameters: {'model': 'xgb', 'n_estimators': 731, 'max_depth': 4, 'learning_rate': 0.2801639816027407, 'subsample': 0.7770607722568943, 'colsample_bytree': 0.8907498832902947, 'gamma': 4.714420522541973, 'reg_alpha': 3.9547740083348, 'reg_lambda': 0.9722707733204977}. Best is trial 1 with value: -1.0017795540688634.\n",
      "[I 2025-07-21 05:55:06,383] Trial 5 finished with value: -1.2055992942482325 and parameters: {'model': 'xgb', 'n_estimators': 676, 'max_depth': 12, 'learning_rate': 0.2531050206688051, 'subsample': 0.9656941675743275, 'colsample_bytree': 0.6478494389689887, 'gamma': 2.2163512344472256, 'reg_alpha': 0.14171403063817978, 'reg_lambda': 4.830377186444149}. Best is trial 1 with value: -1.0017795540688634.\n",
      "[I 2025-07-21 05:55:37,486] Trial 6 finished with value: -0.9811871436806067 and parameters: {'model': 'xgb', 'n_estimators': 385, 'max_depth': 12, 'learning_rate': 0.14710531040984423, 'subsample': 0.9225053583913259, 'colsample_bytree': 0.9448497209642002, 'gamma': 3.3451532755178865, 'reg_alpha': 1.2489734007290547, 'reg_lambda': 1.0519355115757156}. Best is trial 6 with value: -0.9811871436806067.\n",
      "[I 2025-07-21 05:55:41,337] Trial 7 finished with value: -1.6301986598475517 and parameters: {'model': 'xgb', 'n_estimators': 366, 'max_depth': 5, 'learning_rate': 0.08615996589104734, 'subsample': 0.8948364199965806, 'colsample_bytree': 0.6359517616756726, 'gamma': 1.7320525296131901, 'reg_alpha': 4.807742375498594, 'reg_lambda': 0.43852629994605874}. Best is trial 6 with value: -0.9811871436806067.\n",
      "[I 2025-07-21 05:56:15,248] Trial 8 finished with value: -1.2246561626437327 and parameters: {'model': 'xgb', 'n_estimators': 656, 'max_depth': 11, 'learning_rate': 0.21990808216068403, 'subsample': 0.7233004181970017, 'colsample_bytree': 0.7063421567029122, 'gamma': 1.1558241568356575, 'reg_alpha': 0.44615519899169565, 'reg_lambda': 4.5209711100732}. Best is trial 6 with value: -0.9811871436806067.\n",
      "[I 2025-07-21 05:56:22,215] Trial 9 finished with value: -1.7351697836159197 and parameters: {'model': 'xgb', 'n_estimators': 830, 'max_depth': 4, 'learning_rate': 0.06390422751234054, 'subsample': 0.7327861744660636, 'colsample_bytree': 0.6883592657397645, 'gamma': 1.0011036346271618, 'reg_alpha': 4.59372030533585, 'reg_lambda': 2.129622887577103}. Best is trial 6 with value: -0.9811871436806067.\n",
      "[I 2025-07-21 05:56:43,363] Trial 10 finished with value: -1.0704813156618351 and parameters: {'model': 'xgb', 'n_estimators': 910, 'max_depth': 9, 'learning_rate': 0.1873531989522136, 'subsample': 0.9868221262248154, 'colsample_bytree': 0.9976871201998967, 'gamma': 0.005615573138247232, 'reg_alpha': 2.446423983598958, 'reg_lambda': 3.4473299830101727}. Best is trial 6 with value: -0.9811871436806067.\n",
      "[I 2025-07-21 05:57:25,057] Trial 11 finished with value: -0.9278103181419334 and parameters: {'model': 'xgb', 'n_estimators': 491, 'max_depth': 12, 'learning_rate': 0.10969209952008326, 'subsample': 0.8483874740739565, 'colsample_bytree': 0.95529426577473, 'gamma': 4.083844426550124, 'reg_alpha': 1.7156607009938765, 'reg_lambda': 0.1065777771784091}. Best is trial 11 with value: -0.9278103181419334.\n",
      "[I 2025-07-21 05:57:41,696] Trial 12 finished with value: -1.0499585640184008 and parameters: {'model': 'xgb', 'n_estimators': 458, 'max_depth': 10, 'learning_rate': 0.1303913109374377, 'subsample': 0.8600060107070293, 'colsample_bytree': 0.9998809500644785, 'gamma': 3.6869400576900166, 'reg_alpha': 2.200451514574211, 'reg_lambda': 0.1862856267028261}. Best is trial 11 with value: -0.9278103181419334.\n",
      "[I 2025-07-21 05:57:52,519] Trial 13 finished with value: -1.079770237249246 and parameters: {'model': 'xgb', 'n_estimators': 305, 'max_depth': 10, 'learning_rate': 0.11174722266990844, 'subsample': 0.9237576019562698, 'colsample_bytree': 0.8021776955185332, 'gamma': 4.241216003898392, 'reg_alpha': 1.4327502124598683, 'reg_lambda': 0.9333527892142621}. Best is trial 11 with value: -0.9278103181419334.\n",
      "[I 2025-07-21 05:58:35,520] Trial 14 finished with value: -0.9765638138231315 and parameters: {'model': 'xgb', 'n_estimators': 513, 'max_depth': 12, 'learning_rate': 0.16336538138461063, 'subsample': 0.8378622247739462, 'colsample_bytree': 0.9333848808694782, 'gamma': 3.127392672245513, 'reg_alpha': 1.913136872907482, 'reg_lambda': 0.037806469988706515}. Best is trial 11 with value: -0.9278103181419334.\n",
      "[I 2025-07-21 05:58:45,355] Trial 15 finished with value: -1.3076236151598553 and parameters: {'model': 'xgb', 'n_estimators': 547, 'max_depth': 8, 'learning_rate': 0.19795000849086467, 'subsample': 0.6016500247216201, 'colsample_bytree': 0.8370298443564431, 'gamma': 2.8355269305186823, 'reg_alpha': 2.9521107003704756, 'reg_lambda': 0.06094223045540817}. Best is trial 11 with value: -0.9278103181419334.\n",
      "[I 2025-07-21 05:59:14,266] Trial 16 finished with value: -1.203564460098439 and parameters: {'model': 'xgb', 'n_estimators': 578, 'max_depth': 11, 'learning_rate': 0.014486854278624492, 'subsample': 0.830970348733197, 'colsample_bytree': 0.7614394420258627, 'gamma': 4.223151668243969, 'reg_alpha': 1.9281669022110601, 'reg_lambda': 3.471285692004561}. Best is trial 11 with value: -0.9278103181419334.\n",
      "[I 2025-07-21 05:59:20,191] Trial 17 finished with value: -1.3618426101930494 and parameters: {'model': 'xgb', 'n_estimators': 488, 'max_depth': 6, 'learning_rate': 0.0675495467946728, 'subsample': 0.8408873661383722, 'colsample_bytree': 0.9555833795830566, 'gamma': 3.8239923967370295, 'reg_alpha': 3.0215644366302166, 'reg_lambda': 0.6389299611351877}. Best is trial 11 with value: -0.9278103181419334.\n",
      "[I 2025-07-21 05:59:48,473] Trial 18 finished with value: -1.143795049299338 and parameters: {'model': 'xgb', 'n_estimators': 779, 'max_depth': 10, 'learning_rate': 0.16420751083632168, 'subsample': 0.7838589488650031, 'colsample_bytree': 0.8445500381025841, 'gamma': 4.954811890724548, 'reg_alpha': 1.8701753624512434, 'reg_lambda': 1.3718971373280267}. Best is trial 11 with value: -0.9278103181419334.\n",
      "[I 2025-07-21 06:00:19,837] Trial 19 finished with value: -1.0089414948651407 and parameters: {'model': 'xgb', 'n_estimators': 585, 'max_depth': 11, 'learning_rate': 0.09313860734542001, 'subsample': 0.6728746208409198, 'colsample_bytree': 0.9376077602145729, 'gamma': 2.4296802657032828, 'reg_alpha': 0.6918023446997761, 'reg_lambda': 2.574347307596737}. Best is trial 11 with value: -0.9278103181419334.\n",
      "[I 2025-07-21 06:00:30,847] Trial 20 finished with value: -1.2079133303836906 and parameters: {'model': 'xgb', 'n_estimators': 438, 'max_depth': 9, 'learning_rate': 0.2076261896670547, 'subsample': 0.9463340791339704, 'colsample_bytree': 0.7630591673187579, 'gamma': 2.7544396743190713, 'reg_alpha': 3.1653686220522017, 'reg_lambda': 0.5429969538976213}. Best is trial 11 with value: -0.9278103181419334.\n",
      "[I 2025-07-21 06:01:05,507] Trial 21 finished with value: -0.9284474398762327 and parameters: {'model': 'xgb', 'n_estimators': 399, 'max_depth': 12, 'learning_rate': 0.14621928105513646, 'subsample': 0.9052184759844375, 'colsample_bytree': 0.9590149320679189, 'gamma': 3.41477378798366, 'reg_alpha': 1.6091672456438297, 'reg_lambda': 0.041737666941296325}. Best is trial 11 with value: -0.9278103181419334.\n",
      "[I 2025-07-21 06:01:49,746] Trial 22 finished with value: -0.9467688419207079 and parameters: {'model': 'xgb', 'n_estimators': 520, 'max_depth': 12, 'learning_rate': 0.14803949171685912, 'subsample': 0.8764067984139035, 'colsample_bytree': 0.9692472854612814, 'gamma': 3.534184452623564, 'reg_alpha': 1.6725894658334466, 'reg_lambda': 0.029238995864553363}. Best is trial 11 with value: -0.9278103181419334.\n",
      "[I 2025-07-21 06:02:06,600] Trial 23 finished with value: -0.998153684937634 and parameters: {'model': 'xgb', 'n_estimators': 306, 'max_depth': 11, 'learning_rate': 0.14254218633518345, 'subsample': 0.8812464121593776, 'colsample_bytree': 0.9815378548331438, 'gamma': 3.660180501998195, 'reg_alpha': 1.5250306630556771, 'reg_lambda': 0.6300149916593916}. Best is trial 11 with value: -0.9278103181419334.\n",
      "[I 2025-07-21 06:02:42,934] Trial 24 finished with value: -0.9496258427222415 and parameters: {'model': 'xgb', 'n_estimators': 432, 'max_depth': 12, 'learning_rate': 0.10491920032493515, 'subsample': 0.9091895646279219, 'colsample_bytree': 0.9001340966806053, 'gamma': 4.308460157863413, 'reg_alpha': 0.8685792469774776, 'reg_lambda': 0.02745329764879192}. Best is trial 11 with value: -0.9278103181419334.\n",
      "[I 2025-07-21 06:03:04,826] Trial 25 finished with value: -0.9552097520056654 and parameters: {'model': 'xgb', 'n_estimators': 617, 'max_depth': 10, 'learning_rate': 0.06145907305949099, 'subsample': 0.8681156607855769, 'colsample_bytree': 0.9649388637821494, 'gamma': 3.821044111920772, 'reg_alpha': 2.326709313709096, 'reg_lambda': 1.2778156575009603}. Best is trial 11 with value: -0.9278103181419334.\n",
      "[I 2025-07-21 06:03:43,996] Trial 26 finished with value: -0.976105819088958 and parameters: {'model': 'xgb', 'n_estimators': 992, 'max_depth': 11, 'learning_rate': 0.12672530742166804, 'subsample': 0.994500035159739, 'colsample_bytree': 0.8624193007375347, 'gamma': 4.5729320649534, 'reg_alpha': 2.6652346358151933, 'reg_lambda': 0.4477515260158277}. Best is trial 11 with value: -0.9278103181419334.\n",
      "[I 2025-07-21 06:03:47,555] Trial 27 finished with value: -1.7812717930456785 and parameters: {'model': 'xgb', 'n_estimators': 410, 'max_depth': 3, 'learning_rate': 0.18210142728186146, 'subsample': 0.9488248421948455, 'colsample_bytree': 0.9189705734423332, 'gamma': 3.4609934454175715, 'reg_alpha': 1.6028170447148886, 'reg_lambda': 0.8397730446725682}. Best is trial 11 with value: -0.9278103181419334.\n",
      "[I 2025-07-21 06:03:57,290] Trial 28 finished with value: -1.1449246033703997 and parameters: {'model': 'xgb', 'n_estimators': 521, 'max_depth': 8, 'learning_rate': 0.1459463328997255, 'subsample': 0.8166292452326149, 'colsample_bytree': 0.9687665992787942, 'gamma': 4.173295551586, 'reg_alpha': 0.775494187763466, 'reg_lambda': 3.130656048809696}. Best is trial 11 with value: -0.9278103181419334.\n",
      "[I 2025-07-21 06:04:48,449] Trial 29 finished with value: -0.9641660567735277 and parameters: {'model': 'xgb', 'n_estimators': 629, 'max_depth': 12, 'learning_rate': 0.08063078747245202, 'subsample': 0.8608954016912389, 'colsample_bytree': 0.8756594931273831, 'gamma': 2.7055972135167656, 'reg_alpha': 0.006147926048949648, 'reg_lambda': 1.603439256716087}. Best is trial 11 with value: -0.9278103181419334.\n",
      "[I 2025-07-21 06:05:18,082] Trial 30 finished with value: -1.1080158093010042 and parameters: {'model': 'xgb', 'n_estimators': 540, 'max_depth': 11, 'learning_rate': 0.16774393446594013, 'subsample': 0.7836811394554702, 'colsample_bytree': 0.8138897384954502, 'gamma': 3.334932967370748, 'reg_alpha': 3.594401229627203, 'reg_lambda': 0.34524029596541606}. Best is trial 11 with value: -0.9278103181419334.\n",
      "[I 2025-07-21 06:05:54,862] Trial 31 finished with value: -0.9597480701014688 and parameters: {'model': 'xgb', 'n_estimators': 433, 'max_depth': 12, 'learning_rate': 0.0976997462853395, 'subsample': 0.9126730019452418, 'colsample_bytree': 0.8991475170946247, 'gamma': 4.088244400929196, 'reg_alpha': 0.9894169525159751, 'reg_lambda': 0.12496988442571913}. Best is trial 11 with value: -0.9278103181419334.\n",
      "[I 2025-07-21 06:06:24,862] Trial 32 finished with value: -0.9539042594039411 and parameters: {'model': 'xgb', 'n_estimators': 343, 'max_depth': 12, 'learning_rate': 0.1106176097091537, 'subsample': 0.9016625035863826, 'colsample_bytree': 0.9114542759025163, 'gamma': 4.552990697793375, 'reg_alpha': 0.5915538516429846, 'reg_lambda': 0.009596501292313004}. Best is trial 11 with value: -0.9278103181419334.\n",
      "[I 2025-07-21 06:07:02,821] Trial 33 finished with value: -0.9351834466954565 and parameters: {'model': 'xgb', 'n_estimators': 487, 'max_depth': 12, 'learning_rate': 0.13410290497499092, 'subsample': 0.9371049358867064, 'colsample_bytree': 0.9783943616207273, 'gamma': 4.962327210584463, 'reg_alpha': 1.0392482916365189, 'reg_lambda': 0.748509371021716}. Best is trial 11 with value: -0.9278103181419334.\n",
      "[I 2025-07-21 06:07:27,821] Trial 34 finished with value: -0.9810656221944124 and parameters: {'model': 'xgb', 'n_estimators': 485, 'max_depth': 11, 'learning_rate': 0.13319652032824406, 'subsample': 0.969156343531346, 'colsample_bytree': 0.981568578366601, 'gamma': 4.935255876738268, 'reg_alpha': 1.7518638575552405, 'reg_lambda': 1.6814844966654283}. Best is trial 11 with value: -0.9278103181419334.\n",
      "[I 2025-07-21 06:07:45,162] Trial 35 finished with value: -1.0008143466384407 and parameters: {'model': 'xgb', 'n_estimators': 485, 'max_depth': 10, 'learning_rate': 0.12028268397729647, 'subsample': 0.9387206877421783, 'colsample_bytree': 0.946521612140189, 'gamma': 3.9545396404134445, 'reg_alpha': 1.1150984296838635, 'reg_lambda': 1.1408120059917846}. Best is trial 11 with value: -0.9278103181419334.\n",
      "[I 2025-07-21 06:08:18,966] Trial 36 finished with value: -1.020889490460541 and parameters: {'model': 'xgb', 'n_estimators': 399, 'max_depth': 12, 'learning_rate': 0.2194423995877401, 'subsample': 0.8146365092849344, 'colsample_bytree': 0.9246395161732335, 'gamma': 4.432822110048021, 'reg_alpha': 2.095011713069228, 'reg_lambda': 0.698274289227947}. Best is trial 11 with value: -0.9278103181419334.\n",
      "[I 2025-07-21 06:08:36,634] Trial 37 finished with value: -0.9467960533142259 and parameters: {'model': 'xgb', 'n_estimators': 349, 'max_depth': 11, 'learning_rate': 0.04911923769075442, 'subsample': 0.867062636476065, 'colsample_bytree': 0.9836613538758618, 'gamma': 4.734876097424001, 'reg_alpha': 0.3553896680541955, 'reg_lambda': 2.1247304836615344}. Best is trial 11 with value: -0.9278103181419334.\n",
      "[I 2025-07-21 06:08:43,641] Trial 38 finished with value: -1.2991078178722208 and parameters: {'model': 'xgb', 'n_estimators': 599, 'max_depth': 6, 'learning_rate': 0.15172234019418288, 'subsample': 0.8841381950490932, 'colsample_bytree': 0.8800076973893447, 'gamma': 3.0945975032481545, 'reg_alpha': 1.3031690923612276, 'reg_lambda': 0.35734743301058647}. Best is trial 11 with value: -0.9278103181419334.\n",
      "[I 2025-07-21 06:08:57,299] Trial 39 finished with value: -1.0579540706767292 and parameters: {'model': 'xgb', 'n_estimators': 554, 'max_depth': 9, 'learning_rate': 0.13867195988477443, 'subsample': 0.9613224646780484, 'colsample_bytree': 0.959788547739475, 'gamma': 3.4733120653664185, 'reg_alpha': 2.6642559416542033, 'reg_lambda': 0.8884801859095082}. Best is trial 11 with value: -0.9278103181419334.\n",
      "[I 2025-07-21 06:09:43,380] Trial 40 finished with value: -1.008908867294516 and parameters: {'model': 'xgb', 'n_estimators': 690, 'max_depth': 12, 'learning_rate': 0.29833820706802083, 'subsample': 0.9304159949543793, 'colsample_bytree': 0.9331098164059564, 'gamma': 4.794404174719141, 'reg_alpha': 1.15124940905735, 'reg_lambda': 4.204729648063271}. Best is trial 11 with value: -0.9278103181419334.\n",
      "[I 2025-07-21 06:10:00,564] Trial 41 finished with value: -0.9413366291647072 and parameters: {'model': 'xgb', 'n_estimators': 342, 'max_depth': 11, 'learning_rate': 0.03967799430714156, 'subsample': 0.8535811968231242, 'colsample_bytree': 0.9835273332836847, 'gamma': 4.656520752709202, 'reg_alpha': 0.4119135256993527, 'reg_lambda': 2.159121083489302}. Best is trial 11 with value: -0.9278103181419334.\n",
      "[I 2025-07-21 06:10:31,675] Trial 42 finished with value: -0.882472161142899 and parameters: {'model': 'xgb', 'n_estimators': 367, 'max_depth': 12, 'learning_rate': 0.03400696571982363, 'subsample': 0.8422714362282642, 'colsample_bytree': 0.9737978528696479, 'gamma': 4.519781602741839, 'reg_alpha': 0.444117894731094, 'reg_lambda': 0.347393512379682}. Best is trial 42 with value: -0.882472161142899.\n",
      "[I 2025-07-21 06:10:48,946] Trial 43 finished with value: -1.5440189698389262 and parameters: {'model': 'xgb', 'n_estimators': 340, 'max_depth': 11, 'learning_rate': 0.01107628003535975, 'subsample': 0.8486295062791078, 'colsample_bytree': 0.9986869945423873, 'gamma': 4.557395395107122, 'reg_alpha': 0.2935162619459803, 'reg_lambda': 1.782656273138437}. Best is trial 42 with value: -0.882472161142899.\n",
      "[I 2025-07-21 06:11:17,292] Trial 44 finished with value: -0.9243282647886403 and parameters: {'model': 'xgb', 'n_estimators': 381, 'max_depth': 12, 'learning_rate': 0.0394830131612713, 'subsample': 0.81565422659457, 'colsample_bytree': 0.946376992791551, 'gamma': 4.935189059947522, 'reg_alpha': 0.5283344625585149, 'reg_lambda': 2.208169053620977}. Best is trial 42 with value: -0.882472161142899.\n",
      "[I 2025-07-21 06:11:50,210] Trial 45 finished with value: -0.8862576411598561 and parameters: {'model': 'xgb', 'n_estimators': 387, 'max_depth': 12, 'learning_rate': 0.026212492205218364, 'subsample': 0.7992012862981396, 'colsample_bytree': 0.9500863237736684, 'gamma': 4.960812294333811, 'reg_alpha': 0.9347617391464, 'reg_lambda': 0.3871171820433355}. Best is trial 42 with value: -0.882472161142899.\n",
      "[I 2025-07-21 06:12:05,003] Trial 46 finished with value: -1.1080192257812478 and parameters: {'model': 'xgb', 'n_estimators': 382, 'max_depth': 10, 'learning_rate': 0.02248587184039844, 'subsample': 0.7595611432137179, 'colsample_bytree': 0.9115530643905226, 'gamma': 4.373124176684167, 'reg_alpha': 0.5800836064644193, 'reg_lambda': 0.3637356227859403}. Best is trial 42 with value: -0.882472161142899.\n",
      "[I 2025-07-21 06:12:35,185] Trial 47 finished with value: -0.9239284351493207 and parameters: {'model': 'xgb', 'n_estimators': 414, 'max_depth': 12, 'learning_rate': 0.033132005455224045, 'subsample': 0.795007233399907, 'colsample_bytree': 0.938111189083183, 'gamma': 3.9675263090007853, 'reg_alpha': 0.15877072615939752, 'reg_lambda': 2.845530803100532}. Best is trial 42 with value: -0.882472161142899.\n",
      "[I 2025-07-21 06:12:51,000] Trial 48 finished with value: -0.9581009190799669 and parameters: {'model': 'xgb', 'n_estimators': 306, 'max_depth': 11, 'learning_rate': 0.034735633502112354, 'subsample': 0.8046425266106377, 'colsample_bytree': 0.9462073282608131, 'gamma': 4.004021158265565, 'reg_alpha': 0.1675732593557986, 'reg_lambda': 3.005804965421733}. Best is trial 42 with value: -0.882472161142899.\n",
      "[I 2025-07-21 06:13:23,657] Trial 49 finished with value: -1.008570940039877 and parameters: {'model': 'xgb', 'n_estimators': 456, 'max_depth': 12, 'learning_rate': 0.04592828334090947, 'subsample': 0.7263969909777974, 'colsample_bytree': 0.8900361455124487, 'gamma': 0.15903141023593292, 'reg_alpha': 0.10915260603414295, 'reg_lambda': 3.7150936053298214}. Best is trial 42 with value: -0.882472161142899.\n"
     ]
    },
    {
     "name": "stdout",
     "output_type": "stream",
     "text": [
      "Best Trial:\n",
      "FrozenTrial(number=42, state=1, values=[-0.882472161142899], datetime_start=datetime.datetime(2025, 7, 21, 6, 10, 0, 565118), datetime_complete=datetime.datetime(2025, 7, 21, 6, 10, 31, 675327), params={'model': 'xgb', 'n_estimators': 367, 'max_depth': 12, 'learning_rate': 0.03400696571982363, 'subsample': 0.8422714362282642, 'colsample_bytree': 0.9737978528696479, 'gamma': 4.519781602741839, 'reg_alpha': 0.444117894731094, 'reg_lambda': 0.347393512379682}, user_attrs={}, system_attrs={}, intermediate_values={}, distributions={'model': CategoricalDistribution(choices=('xgb',)), 'n_estimators': IntDistribution(high=1000, log=False, low=300, step=1), 'max_depth': IntDistribution(high=12, log=False, low=3, step=1), 'learning_rate': FloatDistribution(high=0.3, log=False, low=0.01, step=None), 'subsample': FloatDistribution(high=1.0, log=False, low=0.6, step=None), 'colsample_bytree': FloatDistribution(high=1.0, log=False, low=0.6, step=None), 'gamma': FloatDistribution(high=5.0, log=False, low=0.0, step=None), 'reg_alpha': FloatDistribution(high=5.0, log=False, low=0.0, step=None), 'reg_lambda': FloatDistribution(high=5.0, log=False, low=0.0, step=None)}, trial_id=42, value=None)\n"
     ]
    }
   ],
   "source": [
    "import pandas as pd\n",
    "import numpy as np\n",
    "import optuna\n",
    "from sklearn.model_selection import TimeSeriesSplit, cross_val_score\n",
    "from sklearn.metrics import make_scorer, mean_squared_log_error\n",
    "from xgboost import XGBRegressor\n",
    "from lightgbm import LGBMRegressor\n",
    "\n",
    "# -------------------------------\n",
    "# Sample time-sorted data\n",
    "# -------------------------------\n",
    "train_sorted = train.sort_values(\"date\")\n",
    "train_sampled = train_sorted.iloc[:500_000]  # Adjust to 3_000_000 if needed\n",
    "\n",
    "X_sample = train_sampled[features]\n",
    "y_sample = train_sampled[target]\n",
    "\n",
    "# -------------------------------\n",
    "# RMSLE scorer\n",
    "# -------------------------------\n",
    "def rmsle(y_true, y_pred):\n",
    "    y_pred = np.maximum(0, y_pred)\n",
    "    return np.sqrt(mean_squared_log_error(y_true, y_pred))\n",
    "\n",
    "rmsle_scorer = make_scorer(rmsle, greater_is_better=False)\n",
    "\n",
    "# -------------------------------\n",
    "# Optuna objective\n",
    "# -------------------------------\n",
    "def objective(trial):\n",
    "    model_name = trial.suggest_categorical(\"model\", [\"xgb\"])\n",
    "\n",
    "    model_name == \"xgb\"\n",
    "    params = {\n",
    "        'n_estimators': trial.suggest_int('n_estimators', 300, 1000),\n",
    "        'max_depth': trial.suggest_int('max_depth', 3, 12),\n",
    "        'learning_rate': trial.suggest_float('learning_rate', 0.01, 0.3),\n",
    "        'subsample': trial.suggest_float('subsample', 0.6, 1.0),\n",
    "        'colsample_bytree': trial.suggest_float('colsample_bytree', 0.6, 1.0),\n",
    "        'gamma': trial.suggest_float('gamma', 0, 5),\n",
    "        'reg_alpha': trial.suggest_float('reg_alpha', 0, 5),\n",
    "        'reg_lambda': trial.suggest_float('reg_lambda', 0, 5),\n",
    "        'random_state': 42,\n",
    "        'n_jobs': -1,\n",
    "        'tree_method': 'hist',\n",
    "        'device': 'cuda'\n",
    "        }\n",
    "    model = XGBRegressor(**params, verbosity=0)\n",
    "\n",
    "  \n",
    "    # Time series cross-validation\n",
    "    cv = TimeSeriesSplit(n_splits=3)\n",
    "    score = cross_val_score(model, X_sample, y_sample, cv=cv, scoring=rmsle_scorer).mean()\n",
    "    return score  # Negative RMSLE\n",
    "\n",
    "# -------------------------------\n",
    "# Run Optuna\n",
    "# -------------------------------\n",
    "study = optuna.create_study(direction='maximize')  # Because score is negative RMSLE\n",
    "study.optimize(objective, n_trials=50)\n",
    "\n",
    "# -------------------------------\n",
    "# Best model and parameters\n",
    "# -------------------------------\n",
    "print(\"Best Trial:\")\n",
    "print(study.best_trial)\n",
    "\n",
    "trial_params = study.best_trial.params.copy()\n",
    "best_model_name = trial_params.pop(\"model\")\n",
    "best_params = trial_params"
   ]
  },
  {
   "cell_type": "code",
   "execution_count": 18,
   "id": "85f2ac04",
   "metadata": {
    "execution": {
     "iopub.execute_input": "2025-07-21T06:13:23.689088Z",
     "iopub.status.busy": "2025-07-21T06:13:23.688523Z",
     "iopub.status.idle": "2025-07-21T06:13:48.741921Z",
     "shell.execute_reply": "2025-07-21T06:13:48.741077Z"
    },
    "papermill": {
     "duration": 25.063406,
     "end_time": "2025-07-21T06:13:48.743344",
     "exception": false,
     "start_time": "2025-07-21T06:13:23.679938",
     "status": "completed"
    },
    "tags": []
   },
   "outputs": [
    {
     "data": {
      "text/html": [
       "<style>#sk-container-id-1 {color: black;background-color: white;}#sk-container-id-1 pre{padding: 0;}#sk-container-id-1 div.sk-toggleable {background-color: white;}#sk-container-id-1 label.sk-toggleable__label {cursor: pointer;display: block;width: 100%;margin-bottom: 0;padding: 0.3em;box-sizing: border-box;text-align: center;}#sk-container-id-1 label.sk-toggleable__label-arrow:before {content: \"▸\";float: left;margin-right: 0.25em;color: #696969;}#sk-container-id-1 label.sk-toggleable__label-arrow:hover:before {color: black;}#sk-container-id-1 div.sk-estimator:hover label.sk-toggleable__label-arrow:before {color: black;}#sk-container-id-1 div.sk-toggleable__content {max-height: 0;max-width: 0;overflow: hidden;text-align: left;background-color: #f0f8ff;}#sk-container-id-1 div.sk-toggleable__content pre {margin: 0.2em;color: black;border-radius: 0.25em;background-color: #f0f8ff;}#sk-container-id-1 input.sk-toggleable__control:checked~div.sk-toggleable__content {max-height: 200px;max-width: 100%;overflow: auto;}#sk-container-id-1 input.sk-toggleable__control:checked~label.sk-toggleable__label-arrow:before {content: \"▾\";}#sk-container-id-1 div.sk-estimator input.sk-toggleable__control:checked~label.sk-toggleable__label {background-color: #d4ebff;}#sk-container-id-1 div.sk-label input.sk-toggleable__control:checked~label.sk-toggleable__label {background-color: #d4ebff;}#sk-container-id-1 input.sk-hidden--visually {border: 0;clip: rect(1px 1px 1px 1px);clip: rect(1px, 1px, 1px, 1px);height: 1px;margin: -1px;overflow: hidden;padding: 0;position: absolute;width: 1px;}#sk-container-id-1 div.sk-estimator {font-family: monospace;background-color: #f0f8ff;border: 1px dotted black;border-radius: 0.25em;box-sizing: border-box;margin-bottom: 0.5em;}#sk-container-id-1 div.sk-estimator:hover {background-color: #d4ebff;}#sk-container-id-1 div.sk-parallel-item::after {content: \"\";width: 100%;border-bottom: 1px solid gray;flex-grow: 1;}#sk-container-id-1 div.sk-label:hover label.sk-toggleable__label {background-color: #d4ebff;}#sk-container-id-1 div.sk-serial::before {content: \"\";position: absolute;border-left: 1px solid gray;box-sizing: border-box;top: 0;bottom: 0;left: 50%;z-index: 0;}#sk-container-id-1 div.sk-serial {display: flex;flex-direction: column;align-items: center;background-color: white;padding-right: 0.2em;padding-left: 0.2em;position: relative;}#sk-container-id-1 div.sk-item {position: relative;z-index: 1;}#sk-container-id-1 div.sk-parallel {display: flex;align-items: stretch;justify-content: center;background-color: white;position: relative;}#sk-container-id-1 div.sk-item::before, #sk-container-id-1 div.sk-parallel-item::before {content: \"\";position: absolute;border-left: 1px solid gray;box-sizing: border-box;top: 0;bottom: 0;left: 50%;z-index: -1;}#sk-container-id-1 div.sk-parallel-item {display: flex;flex-direction: column;z-index: 1;position: relative;background-color: white;}#sk-container-id-1 div.sk-parallel-item:first-child::after {align-self: flex-end;width: 50%;}#sk-container-id-1 div.sk-parallel-item:last-child::after {align-self: flex-start;width: 50%;}#sk-container-id-1 div.sk-parallel-item:only-child::after {width: 0;}#sk-container-id-1 div.sk-dashed-wrapped {border: 1px dashed gray;margin: 0 0.4em 0.5em 0.4em;box-sizing: border-box;padding-bottom: 0.4em;background-color: white;}#sk-container-id-1 div.sk-label label {font-family: monospace;font-weight: bold;display: inline-block;line-height: 1.2em;}#sk-container-id-1 div.sk-label-container {text-align: center;}#sk-container-id-1 div.sk-container {/* jupyter's `normalize.less` sets `[hidden] { display: none; }` but bootstrap.min.css set `[hidden] { display: none !important; }` so we also need the `!important` here to be able to override the default hidden behavior on the sphinx rendered scikit-learn.org. See: https://github.com/scikit-learn/scikit-learn/issues/21755 */display: inline-block !important;position: relative;}#sk-container-id-1 div.sk-text-repr-fallback {display: none;}</style><div id=\"sk-container-id-1\" class=\"sk-top-container\"><div class=\"sk-text-repr-fallback\"><pre>XGBRegressor(base_score=None, booster=None, callbacks=None,\n",
       "             colsample_bylevel=None, colsample_bynode=None,\n",
       "             colsample_bytree=0.9737978528696479, device=&#x27;cuda&#x27;,\n",
       "             early_stopping_rounds=None, enable_categorical=False,\n",
       "             eval_metric=None, feature_types=None, gamma=4.519781602741839,\n",
       "             grow_policy=None, importance_type=None,\n",
       "             interaction_constraints=None, learning_rate=0.03400696571982363,\n",
       "             max_bin=None, max_cat_threshold=None, max_cat_to_onehot=None,\n",
       "             max_delta_step=None, max_depth=12, max_leaves=None,\n",
       "             min_child_weight=None, missing=nan, monotone_constraints=None,\n",
       "             multi_strategy=None, n_estimators=367, n_jobs=None,\n",
       "             num_parallel_tree=None, random_state=None, ...)</pre><b>In a Jupyter environment, please rerun this cell to show the HTML representation or trust the notebook. <br />On GitHub, the HTML representation is unable to render, please try loading this page with nbviewer.org.</b></div><div class=\"sk-container\" hidden><div class=\"sk-item\"><div class=\"sk-estimator sk-toggleable\"><input class=\"sk-toggleable__control sk-hidden--visually\" id=\"sk-estimator-id-1\" type=\"checkbox\" checked><label for=\"sk-estimator-id-1\" class=\"sk-toggleable__label sk-toggleable__label-arrow\">XGBRegressor</label><div class=\"sk-toggleable__content\"><pre>XGBRegressor(base_score=None, booster=None, callbacks=None,\n",
       "             colsample_bylevel=None, colsample_bynode=None,\n",
       "             colsample_bytree=0.9737978528696479, device=&#x27;cuda&#x27;,\n",
       "             early_stopping_rounds=None, enable_categorical=False,\n",
       "             eval_metric=None, feature_types=None, gamma=4.519781602741839,\n",
       "             grow_policy=None, importance_type=None,\n",
       "             interaction_constraints=None, learning_rate=0.03400696571982363,\n",
       "             max_bin=None, max_cat_threshold=None, max_cat_to_onehot=None,\n",
       "             max_delta_step=None, max_depth=12, max_leaves=None,\n",
       "             min_child_weight=None, missing=nan, monotone_constraints=None,\n",
       "             multi_strategy=None, n_estimators=367, n_jobs=None,\n",
       "             num_parallel_tree=None, random_state=None, ...)</pre></div></div></div></div></div>"
      ],
      "text/plain": [
       "XGBRegressor(base_score=None, booster=None, callbacks=None,\n",
       "             colsample_bylevel=None, colsample_bynode=None,\n",
       "             colsample_bytree=0.9737978528696479, device='cuda',\n",
       "             early_stopping_rounds=None, enable_categorical=False,\n",
       "             eval_metric=None, feature_types=None, gamma=4.519781602741839,\n",
       "             grow_policy=None, importance_type=None,\n",
       "             interaction_constraints=None, learning_rate=0.03400696571982363,\n",
       "             max_bin=None, max_cat_threshold=None, max_cat_to_onehot=None,\n",
       "             max_delta_step=None, max_depth=12, max_leaves=None,\n",
       "             min_child_weight=None, missing=nan, monotone_constraints=None,\n",
       "             multi_strategy=None, n_estimators=367, n_jobs=None,\n",
       "             num_parallel_tree=None, random_state=None, ...)"
      ]
     },
     "execution_count": 18,
     "metadata": {},
     "output_type": "execute_result"
    }
   ],
   "source": [
    "# -------------------------------\n",
    "# Train best model on full training set\n",
    "# -------------------------------\n",
    "best_model_name == \"xgb\"\n",
    "final_model = XGBRegressor(**best_params, verbosity=0, tree_method=\"hist\", device=\"cuda\")\n",
    "\n",
    "final_model.fit(X_train, y_train)"
   ]
  },
  {
   "cell_type": "code",
   "execution_count": 19,
   "id": "fa967f43",
   "metadata": {
    "execution": {
     "iopub.execute_input": "2025-07-21T06:13:48.760603Z",
     "iopub.status.busy": "2025-07-21T06:13:48.760320Z",
     "iopub.status.idle": "2025-07-21T06:13:48.885517Z",
     "shell.execute_reply": "2025-07-21T06:13:48.884559Z"
    },
    "papermill": {
     "duration": 0.135063,
     "end_time": "2025-07-21T06:13:48.886853",
     "exception": false,
     "start_time": "2025-07-21T06:13:48.751790",
     "status": "completed"
    },
    "tags": []
   },
   "outputs": [
    {
     "name": "stdout",
     "output_type": "stream",
     "text": [
      "\n",
      "Final Model: XGB | Validation RMSLE: 0.8078\n"
     ]
    }
   ],
   "source": [
    "# -------------------------------\n",
    "# Validation RMSLE\n",
    "# -------------------------------\n",
    "y_val_pred = final_model.predict(X_val)\n",
    "val_rmsle = rmsle(y_val, y_val_pred)\n",
    "print(f\"\\nFinal Model: {best_model_name.upper()} | Validation RMSLE: {val_rmsle:.4f}\")"
   ]
  },
  {
   "cell_type": "code",
   "execution_count": null,
   "id": "2aa63fcd",
   "metadata": {
    "execution": {
     "iopub.execute_input": "2025-07-21T06:13:48.904495Z",
     "iopub.status.busy": "2025-07-21T06:13:48.904236Z",
     "iopub.status.idle": "2025-07-21T06:13:49.045968Z",
     "shell.execute_reply": "2025-07-21T06:13:49.045047Z"
    },
    "id": "FnEGD_iUnYXq",
    "papermill": {
     "duration": 0.152422,
     "end_time": "2025-07-21T06:13:49.047599",
     "exception": false,
     "start_time": "2025-07-21T06:13:48.895177",
     "status": "completed"
    },
    "tags": []
   },
   "outputs": [],
   "source": [
    "X_test = test[features]\n",
    "\n",
    "# Predict with trained model\n",
    "test_preds = final_model.predict(X_test)\n",
    "test_preds = np.maximum(0, test_preds)  # Ensure no negative values\n",
    "\n",
    "# Prepare submission\n",
    "submission = pd.read_csv('sample_submission.csv')\n",
    "submission['sales'] = test_preds\n",
    "\n",
    "submission.to_csv('submission.csv', index=False)"
   ]
  }
 ],
 "metadata": {
  "colab": {
   "provenance": []
  },
  "kaggle": {
   "accelerator": "gpu",
   "dataSources": [
    {
     "databundleVersionId": 2887556,
     "sourceId": 29781,
     "sourceType": "competition"
    }
   ],
   "dockerImageVersionId": 31089,
   "isGpuEnabled": true,
   "isInternetEnabled": true,
   "language": "python",
   "sourceType": "notebook"
  },
  "kernelspec": {
   "display_name": "tf_env",
   "language": "python",
   "name": "python3"
  },
  "language_info": {
   "codemirror_mode": {
    "name": "ipython",
    "version": 3
   },
   "file_extension": ".py",
   "mimetype": "text/x-python",
   "name": "python",
   "nbconvert_exporter": "python",
   "pygments_lexer": "ipython3",
   "version": "3.10.18"
  },
  "papermill": {
   "default_parameters": {},
   "duration": 1273.36408,
   "end_time": "2025-07-21T06:13:49.976967",
   "environment_variables": {},
   "exception": null,
   "input_path": "__notebook__.ipynb",
   "output_path": "__notebook__.ipynb",
   "parameters": {},
   "start_time": "2025-07-21T05:52:36.612887",
   "version": "2.6.0"
  }
 },
 "nbformat": 4,
 "nbformat_minor": 5
}
