{
 "cells": [
  {
   "cell_type": "markdown",
   "id": "151cc10b",
   "metadata": {
    "id": "687491c1",
    "papermill": {
     "duration": 0.004901,
     "end_time": "2025-06-06T07:16:58.805689",
     "exception": false,
     "start_time": "2025-06-06T07:16:58.800788",
     "status": "completed"
    },
    "tags": []
   },
   "source": [
    "# Survival Rate Prediction on Titanic Dataset using Machine Learning Models\n",
    "- Author: Hasnain Yaqoob\n",
    "- Competition: [Titanic](https://www.kaggle.com/competitions/titanic)\n",
    "- Profiles: \n",
    "    - Kaggle:[Hasnain Yaqoob](https://www.kaggle.com/hasnainyaqooob)\n",
    "    - LinkedIn:[Hasnain Yaqoob](https://www.linkedin.com/in/hasnainyaqoob)\n",
    "    - GitHub:[Hasnain Yaqoob](https://github.com/hasnainyaqub)"
   ]
  },
  {
   "cell_type": "code",
   "execution_count": 1,
   "id": "ec94e9fc",
   "metadata": {
    "execution": {
     "iopub.execute_input": "2025-06-06T07:16:58.818853Z",
     "iopub.status.busy": "2025-06-06T07:16:58.818539Z",
     "iopub.status.idle": "2025-06-06T07:17:04.534088Z",
     "shell.execute_reply": "2025-06-06T07:17:04.533322Z"
    },
    "id": "7cd6bfac",
    "papermill": {
     "duration": 5.724911,
     "end_time": "2025-06-06T07:17:04.535810",
     "exception": false,
     "start_time": "2025-06-06T07:16:58.810899",
     "status": "completed"
    },
    "tags": []
   },
   "outputs": [],
   "source": [
    "# Import libraries\n",
    "import pandas as pd\n",
    "import numpy as np\n",
    "import matplotlib.pyplot as plt\n",
    "import seaborn as sns\n",
    "import plotly.express as px\n",
    "from sklearn.preprocessing import OneHotEncoder , LabelEncoder , StandardScaler\n",
    "from sklearn.ensemble import RandomForestClassifier, RandomForestRegressor\n",
    "from sklearn.model_selection import train_test_split\n",
    "from sklearn.metrics import accuracy_score, mean_absolute_error, r2_score, mean_squared_error\n",
    "from sklearn.experimental import enable_iterative_imputer\n",
    "from sklearn.impute import IterativeImputer\n",
    "from sklearn.linear_model import LogisticRegression\n",
    "from sklearn.ensemble import RandomForestClassifier, GradientBoostingClassifier\n",
    "from sklearn.svm import SVC\n",
    "from sklearn.metrics import accuracy_score\n",
    "\n",
    "import warnings\n",
    "warnings.filterwarnings('ignore')"
   ]
  },
  {
   "cell_type": "code",
   "execution_count": 2,
   "id": "da23c5a7",
   "metadata": {
    "execution": {
     "iopub.execute_input": "2025-06-06T07:17:04.548798Z",
     "iopub.status.busy": "2025-06-06T07:17:04.548286Z",
     "iopub.status.idle": "2025-06-06T07:17:04.599289Z",
     "shell.execute_reply": "2025-06-06T07:17:04.598164Z"
    },
    "id": "f1210bcf",
    "papermill": {
     "duration": 0.059706,
     "end_time": "2025-06-06T07:17:04.601080",
     "exception": false,
     "start_time": "2025-06-06T07:17:04.541374",
     "status": "completed"
    },
    "tags": []
   },
   "outputs": [],
   "source": [
    "# load the data\n",
    "df_train = pd.read_csv('/kaggle/input/titanic/train.csv')\n",
    "df_test = pd.read_csv('/kaggle/input/titanic/test.csv')\n",
    "submission = pd.read_csv('/kaggle/input/titanic/gender_submission.csv')"
   ]
  },
  {
   "cell_type": "code",
   "execution_count": 3,
   "id": "033b939a",
   "metadata": {
    "execution": {
     "iopub.execute_input": "2025-06-06T07:17:04.613159Z",
     "iopub.status.busy": "2025-06-06T07:17:04.612838Z",
     "iopub.status.idle": "2025-06-06T07:17:04.640764Z",
     "shell.execute_reply": "2025-06-06T07:17:04.639824Z"
    },
    "id": "544eaaf9",
    "outputId": "ed55c28a-9f20-45c8-8bc9-1889c7f3dd7a",
    "papermill": {
     "duration": 0.035618,
     "end_time": "2025-06-06T07:17:04.642272",
     "exception": false,
     "start_time": "2025-06-06T07:17:04.606654",
     "status": "completed"
    },
    "tags": []
   },
   "outputs": [
    {
     "data": {
      "text/html": [
       "<div>\n",
       "<style scoped>\n",
       "    .dataframe tbody tr th:only-of-type {\n",
       "        vertical-align: middle;\n",
       "    }\n",
       "\n",
       "    .dataframe tbody tr th {\n",
       "        vertical-align: top;\n",
       "    }\n",
       "\n",
       "    .dataframe thead th {\n",
       "        text-align: right;\n",
       "    }\n",
       "</style>\n",
       "<table border=\"1\" class=\"dataframe\">\n",
       "  <thead>\n",
       "    <tr style=\"text-align: right;\">\n",
       "      <th></th>\n",
       "      <th>PassengerId</th>\n",
       "      <th>Survived</th>\n",
       "      <th>Pclass</th>\n",
       "      <th>Name</th>\n",
       "      <th>Sex</th>\n",
       "      <th>Age</th>\n",
       "      <th>SibSp</th>\n",
       "      <th>Parch</th>\n",
       "      <th>Ticket</th>\n",
       "      <th>Fare</th>\n",
       "      <th>Cabin</th>\n",
       "      <th>Embarked</th>\n",
       "    </tr>\n",
       "  </thead>\n",
       "  <tbody>\n",
       "    <tr>\n",
       "      <th>0</th>\n",
       "      <td>1</td>\n",
       "      <td>0</td>\n",
       "      <td>3</td>\n",
       "      <td>Braund, Mr. Owen Harris</td>\n",
       "      <td>male</td>\n",
       "      <td>22.0</td>\n",
       "      <td>1</td>\n",
       "      <td>0</td>\n",
       "      <td>A/5 21171</td>\n",
       "      <td>7.2500</td>\n",
       "      <td>NaN</td>\n",
       "      <td>S</td>\n",
       "    </tr>\n",
       "    <tr>\n",
       "      <th>1</th>\n",
       "      <td>2</td>\n",
       "      <td>1</td>\n",
       "      <td>1</td>\n",
       "      <td>Cumings, Mrs. John Bradley (Florence Briggs Th...</td>\n",
       "      <td>female</td>\n",
       "      <td>38.0</td>\n",
       "      <td>1</td>\n",
       "      <td>0</td>\n",
       "      <td>PC 17599</td>\n",
       "      <td>71.2833</td>\n",
       "      <td>C85</td>\n",
       "      <td>C</td>\n",
       "    </tr>\n",
       "    <tr>\n",
       "      <th>2</th>\n",
       "      <td>3</td>\n",
       "      <td>1</td>\n",
       "      <td>3</td>\n",
       "      <td>Heikkinen, Miss. Laina</td>\n",
       "      <td>female</td>\n",
       "      <td>26.0</td>\n",
       "      <td>0</td>\n",
       "      <td>0</td>\n",
       "      <td>STON/O2. 3101282</td>\n",
       "      <td>7.9250</td>\n",
       "      <td>NaN</td>\n",
       "      <td>S</td>\n",
       "    </tr>\n",
       "    <tr>\n",
       "      <th>3</th>\n",
       "      <td>4</td>\n",
       "      <td>1</td>\n",
       "      <td>1</td>\n",
       "      <td>Futrelle, Mrs. Jacques Heath (Lily May Peel)</td>\n",
       "      <td>female</td>\n",
       "      <td>35.0</td>\n",
       "      <td>1</td>\n",
       "      <td>0</td>\n",
       "      <td>113803</td>\n",
       "      <td>53.1000</td>\n",
       "      <td>C123</td>\n",
       "      <td>S</td>\n",
       "    </tr>\n",
       "    <tr>\n",
       "      <th>4</th>\n",
       "      <td>5</td>\n",
       "      <td>0</td>\n",
       "      <td>3</td>\n",
       "      <td>Allen, Mr. William Henry</td>\n",
       "      <td>male</td>\n",
       "      <td>35.0</td>\n",
       "      <td>0</td>\n",
       "      <td>0</td>\n",
       "      <td>373450</td>\n",
       "      <td>8.0500</td>\n",
       "      <td>NaN</td>\n",
       "      <td>S</td>\n",
       "    </tr>\n",
       "  </tbody>\n",
       "</table>\n",
       "</div>"
      ],
      "text/plain": [
       "   PassengerId  Survived  Pclass  \\\n",
       "0            1         0       3   \n",
       "1            2         1       1   \n",
       "2            3         1       3   \n",
       "3            4         1       1   \n",
       "4            5         0       3   \n",
       "\n",
       "                                                Name     Sex   Age  SibSp  \\\n",
       "0                            Braund, Mr. Owen Harris    male  22.0      1   \n",
       "1  Cumings, Mrs. John Bradley (Florence Briggs Th...  female  38.0      1   \n",
       "2                             Heikkinen, Miss. Laina  female  26.0      0   \n",
       "3       Futrelle, Mrs. Jacques Heath (Lily May Peel)  female  35.0      1   \n",
       "4                           Allen, Mr. William Henry    male  35.0      0   \n",
       "\n",
       "   Parch            Ticket     Fare Cabin Embarked  \n",
       "0      0         A/5 21171   7.2500   NaN        S  \n",
       "1      0          PC 17599  71.2833   C85        C  \n",
       "2      0  STON/O2. 3101282   7.9250   NaN        S  \n",
       "3      0            113803  53.1000  C123        S  \n",
       "4      0            373450   8.0500   NaN        S  "
      ]
     },
     "execution_count": 3,
     "metadata": {},
     "output_type": "execute_result"
    }
   ],
   "source": [
    "df_train.head()"
   ]
  },
  {
   "cell_type": "code",
   "execution_count": 4,
   "id": "4085e3c6",
   "metadata": {
    "execution": {
     "iopub.execute_input": "2025-06-06T07:17:04.654772Z",
     "iopub.status.busy": "2025-06-06T07:17:04.654478Z",
     "iopub.status.idle": "2025-06-06T07:17:04.668025Z",
     "shell.execute_reply": "2025-06-06T07:17:04.667062Z"
    },
    "id": "c0923b24",
    "outputId": "ffe2cb20-8f2a-4004-9763-5b87d080e511",
    "papermill": {
     "duration": 0.021744,
     "end_time": "2025-06-06T07:17:04.669573",
     "exception": false,
     "start_time": "2025-06-06T07:17:04.647829",
     "status": "completed"
    },
    "tags": []
   },
   "outputs": [
    {
     "data": {
      "text/html": [
       "<div>\n",
       "<style scoped>\n",
       "    .dataframe tbody tr th:only-of-type {\n",
       "        vertical-align: middle;\n",
       "    }\n",
       "\n",
       "    .dataframe tbody tr th {\n",
       "        vertical-align: top;\n",
       "    }\n",
       "\n",
       "    .dataframe thead th {\n",
       "        text-align: right;\n",
       "    }\n",
       "</style>\n",
       "<table border=\"1\" class=\"dataframe\">\n",
       "  <thead>\n",
       "    <tr style=\"text-align: right;\">\n",
       "      <th></th>\n",
       "      <th>PassengerId</th>\n",
       "      <th>Pclass</th>\n",
       "      <th>Name</th>\n",
       "      <th>Sex</th>\n",
       "      <th>Age</th>\n",
       "      <th>SibSp</th>\n",
       "      <th>Parch</th>\n",
       "      <th>Ticket</th>\n",
       "      <th>Fare</th>\n",
       "      <th>Cabin</th>\n",
       "      <th>Embarked</th>\n",
       "    </tr>\n",
       "  </thead>\n",
       "  <tbody>\n",
       "    <tr>\n",
       "      <th>0</th>\n",
       "      <td>892</td>\n",
       "      <td>3</td>\n",
       "      <td>Kelly, Mr. James</td>\n",
       "      <td>male</td>\n",
       "      <td>34.5</td>\n",
       "      <td>0</td>\n",
       "      <td>0</td>\n",
       "      <td>330911</td>\n",
       "      <td>7.8292</td>\n",
       "      <td>NaN</td>\n",
       "      <td>Q</td>\n",
       "    </tr>\n",
       "    <tr>\n",
       "      <th>1</th>\n",
       "      <td>893</td>\n",
       "      <td>3</td>\n",
       "      <td>Wilkes, Mrs. James (Ellen Needs)</td>\n",
       "      <td>female</td>\n",
       "      <td>47.0</td>\n",
       "      <td>1</td>\n",
       "      <td>0</td>\n",
       "      <td>363272</td>\n",
       "      <td>7.0000</td>\n",
       "      <td>NaN</td>\n",
       "      <td>S</td>\n",
       "    </tr>\n",
       "    <tr>\n",
       "      <th>2</th>\n",
       "      <td>894</td>\n",
       "      <td>2</td>\n",
       "      <td>Myles, Mr. Thomas Francis</td>\n",
       "      <td>male</td>\n",
       "      <td>62.0</td>\n",
       "      <td>0</td>\n",
       "      <td>0</td>\n",
       "      <td>240276</td>\n",
       "      <td>9.6875</td>\n",
       "      <td>NaN</td>\n",
       "      <td>Q</td>\n",
       "    </tr>\n",
       "    <tr>\n",
       "      <th>3</th>\n",
       "      <td>895</td>\n",
       "      <td>3</td>\n",
       "      <td>Wirz, Mr. Albert</td>\n",
       "      <td>male</td>\n",
       "      <td>27.0</td>\n",
       "      <td>0</td>\n",
       "      <td>0</td>\n",
       "      <td>315154</td>\n",
       "      <td>8.6625</td>\n",
       "      <td>NaN</td>\n",
       "      <td>S</td>\n",
       "    </tr>\n",
       "    <tr>\n",
       "      <th>4</th>\n",
       "      <td>896</td>\n",
       "      <td>3</td>\n",
       "      <td>Hirvonen, Mrs. Alexander (Helga E Lindqvist)</td>\n",
       "      <td>female</td>\n",
       "      <td>22.0</td>\n",
       "      <td>1</td>\n",
       "      <td>1</td>\n",
       "      <td>3101298</td>\n",
       "      <td>12.2875</td>\n",
       "      <td>NaN</td>\n",
       "      <td>S</td>\n",
       "    </tr>\n",
       "  </tbody>\n",
       "</table>\n",
       "</div>"
      ],
      "text/plain": [
       "   PassengerId  Pclass                                          Name     Sex  \\\n",
       "0          892       3                              Kelly, Mr. James    male   \n",
       "1          893       3              Wilkes, Mrs. James (Ellen Needs)  female   \n",
       "2          894       2                     Myles, Mr. Thomas Francis    male   \n",
       "3          895       3                              Wirz, Mr. Albert    male   \n",
       "4          896       3  Hirvonen, Mrs. Alexander (Helga E Lindqvist)  female   \n",
       "\n",
       "    Age  SibSp  Parch   Ticket     Fare Cabin Embarked  \n",
       "0  34.5      0      0   330911   7.8292   NaN        Q  \n",
       "1  47.0      1      0   363272   7.0000   NaN        S  \n",
       "2  62.0      0      0   240276   9.6875   NaN        Q  \n",
       "3  27.0      0      0   315154   8.6625   NaN        S  \n",
       "4  22.0      1      1  3101298  12.2875   NaN        S  "
      ]
     },
     "execution_count": 4,
     "metadata": {},
     "output_type": "execute_result"
    }
   ],
   "source": [
    "df_test.head()"
   ]
  },
  {
   "cell_type": "code",
   "execution_count": 5,
   "id": "f36c2365",
   "metadata": {
    "execution": {
     "iopub.execute_input": "2025-06-06T07:17:04.682884Z",
     "iopub.status.busy": "2025-06-06T07:17:04.682183Z",
     "iopub.status.idle": "2025-06-06T07:17:04.690633Z",
     "shell.execute_reply": "2025-06-06T07:17:04.689489Z"
    },
    "id": "92f193f2",
    "outputId": "2dbaaa31-ce3e-42a8-fe96-1c13ad9ce63d",
    "papermill": {
     "duration": 0.016773,
     "end_time": "2025-06-06T07:17:04.692264",
     "exception": false,
     "start_time": "2025-06-06T07:17:04.675491",
     "status": "completed"
    },
    "tags": []
   },
   "outputs": [
    {
     "data": {
      "text/html": [
       "<div>\n",
       "<style scoped>\n",
       "    .dataframe tbody tr th:only-of-type {\n",
       "        vertical-align: middle;\n",
       "    }\n",
       "\n",
       "    .dataframe tbody tr th {\n",
       "        vertical-align: top;\n",
       "    }\n",
       "\n",
       "    .dataframe thead th {\n",
       "        text-align: right;\n",
       "    }\n",
       "</style>\n",
       "<table border=\"1\" class=\"dataframe\">\n",
       "  <thead>\n",
       "    <tr style=\"text-align: right;\">\n",
       "      <th></th>\n",
       "      <th>PassengerId</th>\n",
       "      <th>Survived</th>\n",
       "    </tr>\n",
       "  </thead>\n",
       "  <tbody>\n",
       "    <tr>\n",
       "      <th>0</th>\n",
       "      <td>892</td>\n",
       "      <td>0</td>\n",
       "    </tr>\n",
       "    <tr>\n",
       "      <th>1</th>\n",
       "      <td>893</td>\n",
       "      <td>1</td>\n",
       "    </tr>\n",
       "    <tr>\n",
       "      <th>2</th>\n",
       "      <td>894</td>\n",
       "      <td>0</td>\n",
       "    </tr>\n",
       "    <tr>\n",
       "      <th>3</th>\n",
       "      <td>895</td>\n",
       "      <td>0</td>\n",
       "    </tr>\n",
       "    <tr>\n",
       "      <th>4</th>\n",
       "      <td>896</td>\n",
       "      <td>1</td>\n",
       "    </tr>\n",
       "  </tbody>\n",
       "</table>\n",
       "</div>"
      ],
      "text/plain": [
       "   PassengerId  Survived\n",
       "0          892         0\n",
       "1          893         1\n",
       "2          894         0\n",
       "3          895         0\n",
       "4          896         1"
      ]
     },
     "execution_count": 5,
     "metadata": {},
     "output_type": "execute_result"
    }
   ],
   "source": [
    "submission.head()"
   ]
  },
  {
   "cell_type": "markdown",
   "id": "220ddc90",
   "metadata": {
    "id": "c1e561e9",
    "papermill": {
     "duration": 0.005704,
     "end_time": "2025-06-06T07:17:04.704186",
     "exception": false,
     "start_time": "2025-06-06T07:17:04.698482",
     "status": "completed"
    },
    "tags": []
   },
   "source": [
    "# Let's explore the data"
   ]
  },
  {
   "cell_type": "code",
   "execution_count": 6,
   "id": "fe4392a3",
   "metadata": {
    "execution": {
     "iopub.execute_input": "2025-06-06T07:17:04.717003Z",
     "iopub.status.busy": "2025-06-06T07:17:04.716726Z",
     "iopub.status.idle": "2025-06-06T07:17:04.742130Z",
     "shell.execute_reply": "2025-06-06T07:17:04.741141Z"
    },
    "id": "980a79db",
    "outputId": "a5b2a510-3e35-41f3-ff8f-35e7edd650ea",
    "papermill": {
     "duration": 0.033445,
     "end_time": "2025-06-06T07:17:04.743476",
     "exception": false,
     "start_time": "2025-06-06T07:17:04.710031",
     "status": "completed"
    },
    "tags": []
   },
   "outputs": [
    {
     "name": "stdout",
     "output_type": "stream",
     "text": [
      "<class 'pandas.core.frame.DataFrame'>\n",
      "RangeIndex: 891 entries, 0 to 890\n",
      "Data columns (total 12 columns):\n",
      " #   Column       Non-Null Count  Dtype  \n",
      "---  ------       --------------  -----  \n",
      " 0   PassengerId  891 non-null    int64  \n",
      " 1   Survived     891 non-null    int64  \n",
      " 2   Pclass       891 non-null    int64  \n",
      " 3   Name         891 non-null    object \n",
      " 4   Sex          891 non-null    object \n",
      " 5   Age          714 non-null    float64\n",
      " 6   SibSp        891 non-null    int64  \n",
      " 7   Parch        891 non-null    int64  \n",
      " 8   Ticket       891 non-null    object \n",
      " 9   Fare         891 non-null    float64\n",
      " 10  Cabin        204 non-null    object \n",
      " 11  Embarked     889 non-null    object \n",
      "dtypes: float64(2), int64(5), object(5)\n",
      "memory usage: 83.7+ KB\n"
     ]
    }
   ],
   "source": [
    "df_train.info()"
   ]
  },
  {
   "cell_type": "code",
   "execution_count": 7,
   "id": "e527e0f8",
   "metadata": {
    "execution": {
     "iopub.execute_input": "2025-06-06T07:17:04.756962Z",
     "iopub.status.busy": "2025-06-06T07:17:04.756686Z",
     "iopub.status.idle": "2025-06-06T07:17:04.765425Z",
     "shell.execute_reply": "2025-06-06T07:17:04.764548Z"
    },
    "id": "8cefb2d4",
    "outputId": "88ec04e4-0ac5-4545-f2a2-54ea2eb9dfbb",
    "papermill": {
     "duration": 0.016971,
     "end_time": "2025-06-06T07:17:04.766842",
     "exception": false,
     "start_time": "2025-06-06T07:17:04.749871",
     "status": "completed"
    },
    "tags": []
   },
   "outputs": [
    {
     "data": {
      "text/plain": [
       "Cabin          77.104377\n",
       "Age            19.865320\n",
       "Embarked        0.224467\n",
       "PassengerId     0.000000\n",
       "Survived        0.000000\n",
       "Pclass          0.000000\n",
       "Name            0.000000\n",
       "Sex             0.000000\n",
       "SibSp           0.000000\n",
       "Parch           0.000000\n",
       "Ticket          0.000000\n",
       "Fare            0.000000\n",
       "dtype: float64"
      ]
     },
     "execution_count": 7,
     "metadata": {},
     "output_type": "execute_result"
    }
   ],
   "source": [
    "((df_train.isnull().sum() / df_train.shape[0]) * 100).sort_values(ascending=False)"
   ]
  },
  {
   "cell_type": "code",
   "execution_count": 8,
   "id": "2391abf8",
   "metadata": {
    "execution": {
     "iopub.execute_input": "2025-06-06T07:17:04.780262Z",
     "iopub.status.busy": "2025-06-06T07:17:04.779937Z",
     "iopub.status.idle": "2025-06-06T07:17:04.998097Z",
     "shell.execute_reply": "2025-06-06T07:17:04.997264Z"
    },
    "id": "88e3e8ca",
    "outputId": "c68aa670-fed0-4627-e2e8-4bb106cb8ef2",
    "papermill": {
     "duration": 0.226935,
     "end_time": "2025-06-06T07:17:04.999936",
     "exception": false,
     "start_time": "2025-06-06T07:17:04.773001",
     "status": "completed"
    },
    "tags": []
   },
   "outputs": [
    {
     "data": {
      "image/png": "[encoded data removed]",
      "text/plain": [
       "<Figure size 640x480 with 1 Axes>"
      ]
     },
     "metadata": {},
     "output_type": "display_data"
    }
   ],
   "source": [
    "# lets see how many missing values we have in the data by creating a plot\n",
    "\n",
    "sns.heatmap(df_train.isnull(),yticklabels=False,cbar=False,cmap='viridis')\n",
    "plt.show()"
   ]
  },
  {
   "cell_type": "markdown",
   "id": "b775fe01",
   "metadata": {
    "id": "34a949cf",
    "papermill": {
     "duration": 0.006952,
     "end_time": "2025-06-06T07:17:05.013774",
     "exception": false,
     "start_time": "2025-06-06T07:17:05.006822",
     "status": "completed"
    },
    "tags": []
   },
   "source": [
    "------------\n",
    "# Dealing with missing values"
   ]
  },
  {
   "cell_type": "code",
   "execution_count": 9,
   "id": "d745c2e7",
   "metadata": {
    "execution": {
     "iopub.execute_input": "2025-06-06T07:17:05.027950Z",
     "iopub.status.busy": "2025-06-06T07:17:05.027665Z",
     "iopub.status.idle": "2025-06-06T07:17:05.039812Z",
     "shell.execute_reply": "2025-06-06T07:17:05.038658Z"
    },
    "id": "adf28646",
    "outputId": "d447d502-33b2-49c4-9e39-e9fe549494c8",
    "papermill": {
     "duration": 0.020982,
     "end_time": "2025-06-06T07:17:05.041294",
     "exception": false,
     "start_time": "2025-06-06T07:17:05.020312",
     "status": "completed"
    },
    "tags": []
   },
   "outputs": [
    {
     "name": "stdout",
     "output_type": "stream",
     "text": [
      "['Age', 'Cabin', 'Embarked']\n"
     ]
    }
   ],
   "source": [
    "df = df_train\n",
    "# let's split the  columns with missing values into list\n",
    "df.isnull().sum()[df.isnull().sum() > 0].sort_values(ascending=False)\n",
    "missing_data_cols = df.isnull().sum()[df.isnull().sum() > 0].index.tolist()\n",
    "print(missing_data_cols)\n",
    "# let's split the columns with missing values into categorical and numeric columns\n",
    "categorical_cols = [col for col in df.columns if df_train[col].dtypes == 'O']\n",
    "bool_cols = []\n",
    "numeric_cols = [col for col in df.columns if df_train[col].dtypes == 'float64']"
   ]
  },
  {
   "cell_type": "code",
   "execution_count": 10,
   "id": "08ac5bd9",
   "metadata": {
    "execution": {
     "iopub.execute_input": "2025-06-06T07:17:05.056342Z",
     "iopub.status.busy": "2025-06-06T07:17:05.056013Z",
     "iopub.status.idle": "2025-06-06T07:17:05.072651Z",
     "shell.execute_reply": "2025-06-06T07:17:05.071680Z"
    },
    "id": "74b2e4d1",
    "jupyter": {
     "source_hidden": true
    },
    "papermill": {
     "duration": 0.025905,
     "end_time": "2025-06-06T07:17:05.074085",
     "exception": false,
     "start_time": "2025-06-06T07:17:05.048180",
     "status": "completed"
    },
    "tags": []
   },
   "outputs": [],
   "source": [
    "# define the function to impute the missing values in thal column\n",
    "\n",
    "def impute_categorical_missing_data(passed_col):\n",
    "\n",
    "    df_null = df[df[passed_col].isnull()]\n",
    "    df_not_null = df[df[passed_col].notnull()]\n",
    "\n",
    "    X = df_not_null.drop(passed_col, axis=1)\n",
    "    y = df_not_null[passed_col]\n",
    "\n",
    "    other_missing_cols = [col for col in missing_data_cols if col != passed_col]\n",
    "\n",
    "    label_encoder = LabelEncoder()\n",
    "\n",
    "    for col in X.columns:\n",
    "        if X[col].dtype == 'object' or X[col].dtype == 'category':\n",
    "            X[col] = label_encoder.fit_transform(X[col])\n",
    "\n",
    "    if passed_col in bool_cols:\n",
    "        y = label_encoder.fit_transform(y)\n",
    "\n",
    "    iterative_imputer = IterativeImputer(estimator=RandomForestRegressor(random_state=42), add_indicator=True)\n",
    "\n",
    "    for col in other_missing_cols:\n",
    "        if X[col].isnull().sum() > 0:\n",
    "            col_with_missing_values = X[col].values.reshape(-1, 1)\n",
    "            imputed_values = iterative_imputer.fit_transform(col_with_missing_values)\n",
    "            X[col] = imputed_values[:, 0]\n",
    "        else:\n",
    "            pass\n",
    "\n",
    "    X_train, X_test, y_train, y_test = train_test_split(X, y, test_size=0.2, random_state=42)\n",
    "\n",
    "    rf_classifier = RandomForestClassifier()\n",
    "\n",
    "    rf_classifier.fit(X_train, y_train)\n",
    "\n",
    "    y_pred = rf_classifier.predict(X_test)\n",
    "\n",
    "    acc_score = accuracy_score(y_test, y_pred)\n",
    "\n",
    "    print(\"The feature '\"+ passed_col+ \"' has been imputed with\", round((acc_score * 100), 2), \"accuracy\\n\")\n",
    "\n",
    "    X = df_null.drop(passed_col, axis=1)\n",
    "\n",
    "    for col in X.columns:\n",
    "        if X[col].dtype == 'object' or X[col].dtype == 'category':\n",
    "            X[col] = label_encoder.fit_transform(X[col])\n",
    "\n",
    "    for col in other_missing_cols:\n",
    "        if X[col].isnull().sum() > 0:\n",
    "            col_with_missing_values = X[col].values.reshape(-1, 1)\n",
    "            imputed_values = iterative_imputer.fit_transform(col_with_missing_values)\n",
    "            X[col] = imputed_values[:, 0]\n",
    "        else:\n",
    "            pass\n",
    "\n",
    "    if len(df_null) > 0:\n",
    "        df_null[passed_col] = rf_classifier.predict(X)\n",
    "        if passed_col in bool_cols:\n",
    "            df_null[passed_col] = df_null[passed_col].map({0: False, 1: True})\n",
    "        else:\n",
    "            pass\n",
    "    else:\n",
    "        pass\n",
    "\n",
    "    df_combined = pd.concat([df_not_null, df_null])\n",
    "\n",
    "    return df_combined[passed_col]\n",
    "\n",
    "def impute_continuous_missing_data(passed_col):\n",
    "\n",
    "    df_null = df[df[passed_col].isnull()]\n",
    "    df_not_null = df[df[passed_col].notnull()]\n",
    "\n",
    "    X = df_not_null.drop(passed_col, axis=1)\n",
    "    y = df_not_null[passed_col]\n",
    "\n",
    "    other_missing_cols = [col for col in missing_data_cols if col != passed_col]\n",
    "\n",
    "    label_encoder = LabelEncoder()\n",
    "\n",
    "    for col in X.columns:\n",
    "        if X[col].dtype == 'object' or X[col].dtype == 'category':\n",
    "            X[col] = label_encoder.fit_transform(X[col])\n",
    "\n",
    "    iterative_imputer = IterativeImputer(estimator=RandomForestRegressor(random_state=42), add_indicator=True)\n",
    "\n",
    "    for col in other_missing_cols:\n",
    "        if X[col].isnull().sum() > 0:\n",
    "            col_with_missing_values = X[col].values.reshape(-1, 1)\n",
    "            imputed_values = iterative_imputer.fit_transform(col_with_missing_values)\n",
    "            X[col] = imputed_values[:, 0]\n",
    "        else:\n",
    "            pass\n",
    "\n",
    "    X_train, X_test, y_train, y_test = train_test_split(X, y, test_size=0.2, random_state=42)\n",
    "\n",
    "    rf_regressor = RandomForestRegressor()\n",
    "\n",
    "    rf_regressor.fit(X_train, y_train)\n",
    "\n",
    "    y_pred = rf_regressor.predict(X_test)\n",
    "\n",
    "    print(\"MAE =\", mean_absolute_error(y_test, y_pred), \"\\n\")\n",
    "    # print(\"RMSE =\", mean_squared_error(y_test, y_pred, squared=False), \"\\n\")\n",
    "    print(\"R2 =\", r2_score(y_test, y_pred), \"\\n\")\n",
    "\n",
    "    X = df_null.drop(passed_col, axis=1)\n",
    "\n",
    "    for col in X.columns:\n",
    "        if X[col].dtype == 'object' or X[col].dtype == 'category':\n",
    "            X[col] = label_encoder.fit_transform(X[col])\n",
    "\n",
    "    for col in other_missing_cols:\n",
    "        if X[col].isnull().sum() > 0:\n",
    "            col_with_missing_values = X[col].values.reshape(-1, 1)\n",
    "            imputed_values = iterative_imputer.fit_transform(col_with_missing_values)\n",
    "            X[col] = imputed_values[:, 0]\n",
    "        else:\n",
    "            pass\n",
    "\n",
    "    if len(df_null) > 0:\n",
    "        df_null[passed_col] = rf_regressor.predict(X)\n",
    "    else:\n",
    "        pass\n",
    "\n",
    "    df_combined = pd.concat([df_not_null, df_null])\n",
    "\n",
    "    return df_combined[passed_col]"
   ]
  },
  {
   "cell_type": "code",
   "execution_count": 11,
   "id": "6f124197",
   "metadata": {
    "execution": {
     "iopub.execute_input": "2025-06-06T07:17:05.088775Z",
     "iopub.status.busy": "2025-06-06T07:17:05.088469Z",
     "iopub.status.idle": "2025-06-06T07:17:05.975938Z",
     "shell.execute_reply": "2025-06-06T07:17:05.974919Z"
    },
    "id": "51306ee2",
    "outputId": "a7e0e6dc-0091-4497-991b-23c3e92d567e",
    "papermill": {
     "duration": 0.896657,
     "end_time": "2025-06-06T07:17:05.977546",
     "exception": false,
     "start_time": "2025-06-06T07:17:05.080889",
     "status": "completed"
    },
    "tags": []
   },
   "outputs": [
    {
     "name": "stdout",
     "output_type": "stream",
     "text": [
      "Missing Values Age : 19.87%\n",
      "MAE = 9.335244755244755 \n",
      "\n",
      "R2 = 0.25230817539231676 \n",
      "\n",
      "Missing Values Cabin : 77.1%\n",
      "The feature 'Cabin' has been imputed with 24.39 accuracy\n",
      "\n",
      "Missing Values Embarked : 0.22%\n",
      "The feature 'Embarked' has been imputed with 91.01 accuracy\n",
      "\n"
     ]
    }
   ],
   "source": [
    "# impute missing values using our functions\n",
    "for col in missing_data_cols:\n",
    "    print(\"Missing Values\", col, \":\", str(round((df[col].isnull().sum() / len(df)) * 100, 2))+\"%\")\n",
    "    if col in categorical_cols:\n",
    "        df[col] = impute_categorical_missing_data(col)\n",
    "    elif col in numeric_cols:\n",
    "        df[col] = impute_continuous_missing_data(col)\n",
    "        pass\n",
    "    else:\n",
    "        pass"
   ]
  },
  {
   "cell_type": "code",
   "execution_count": 12,
   "id": "cf4ef89f",
   "metadata": {
    "execution": {
     "iopub.execute_input": "2025-06-06T07:17:05.993329Z",
     "iopub.status.busy": "2025-06-06T07:17:05.992941Z",
     "iopub.status.idle": "2025-06-06T07:17:06.123308Z",
     "shell.execute_reply": "2025-06-06T07:17:06.122365Z"
    },
    "id": "c961f995",
    "outputId": "617c2929-3671-4cc8-a4dc-3670e883efd8",
    "papermill": {
     "duration": 0.140002,
     "end_time": "2025-06-06T07:17:06.124635",
     "exception": false,
     "start_time": "2025-06-06T07:17:05.984633",
     "status": "completed"
    },
    "tags": []
   },
   "outputs": [
    {
     "data": {
      "image/png": "[encoded data removed]",
      "text/plain": [
       "<Figure size 640x480 with 1 Axes>"
      ]
     },
     "metadata": {},
     "output_type": "display_data"
    }
   ],
   "source": [
    "# plot missing values\n",
    "\n",
    "sns.heatmap(df.isnull(),yticklabels=False,cbar=False,cmap='viridis')\n",
    "plt.show()\n"
   ]
  },
  {
   "cell_type": "code",
   "execution_count": 13,
   "id": "e305f5e6",
   "metadata": {
    "execution": {
     "iopub.execute_input": "2025-06-06T07:17:06.141082Z",
     "iopub.status.busy": "2025-06-06T07:17:06.140772Z",
     "iopub.status.idle": "2025-06-06T07:17:06.154056Z",
     "shell.execute_reply": "2025-06-06T07:17:06.153203Z"
    },
    "id": "Zn57uMIvG9U6",
    "outputId": "4809eead-d665-4f0c-fa3b-90f4bc554aae",
    "papermill": {
     "duration": 0.023452,
     "end_time": "2025-06-06T07:17:06.155446",
     "exception": false,
     "start_time": "2025-06-06T07:17:06.131994",
     "status": "completed"
    },
    "tags": []
   },
   "outputs": [
    {
     "data": {
      "text/html": [
       "<div>\n",
       "<style scoped>\n",
       "    .dataframe tbody tr th:only-of-type {\n",
       "        vertical-align: middle;\n",
       "    }\n",
       "\n",
       "    .dataframe tbody tr th {\n",
       "        vertical-align: top;\n",
       "    }\n",
       "\n",
       "    .dataframe thead th {\n",
       "        text-align: right;\n",
       "    }\n",
       "</style>\n",
       "<table border=\"1\" class=\"dataframe\">\n",
       "  <thead>\n",
       "    <tr style=\"text-align: right;\">\n",
       "      <th></th>\n",
       "      <th>PassengerId</th>\n",
       "      <th>Survived</th>\n",
       "      <th>Pclass</th>\n",
       "      <th>Name</th>\n",
       "      <th>Sex</th>\n",
       "      <th>Age</th>\n",
       "      <th>SibSp</th>\n",
       "      <th>Parch</th>\n",
       "      <th>Ticket</th>\n",
       "      <th>Fare</th>\n",
       "      <th>Cabin</th>\n",
       "      <th>Embarked</th>\n",
       "    </tr>\n",
       "  </thead>\n",
       "  <tbody>\n",
       "    <tr>\n",
       "      <th>0</th>\n",
       "      <td>1</td>\n",
       "      <td>0</td>\n",
       "      <td>3</td>\n",
       "      <td>Braund, Mr. Owen Harris</td>\n",
       "      <td>male</td>\n",
       "      <td>22.0</td>\n",
       "      <td>1</td>\n",
       "      <td>0</td>\n",
       "      <td>A/5 21171</td>\n",
       "      <td>7.2500</td>\n",
       "      <td>G6</td>\n",
       "      <td>S</td>\n",
       "    </tr>\n",
       "    <tr>\n",
       "      <th>1</th>\n",
       "      <td>2</td>\n",
       "      <td>1</td>\n",
       "      <td>1</td>\n",
       "      <td>Cumings, Mrs. John Bradley (Florence Briggs Th...</td>\n",
       "      <td>female</td>\n",
       "      <td>38.0</td>\n",
       "      <td>1</td>\n",
       "      <td>0</td>\n",
       "      <td>PC 17599</td>\n",
       "      <td>71.2833</td>\n",
       "      <td>C85</td>\n",
       "      <td>C</td>\n",
       "    </tr>\n",
       "    <tr>\n",
       "      <th>2</th>\n",
       "      <td>3</td>\n",
       "      <td>1</td>\n",
       "      <td>3</td>\n",
       "      <td>Heikkinen, Miss. Laina</td>\n",
       "      <td>female</td>\n",
       "      <td>26.0</td>\n",
       "      <td>0</td>\n",
       "      <td>0</td>\n",
       "      <td>STON/O2. 3101282</td>\n",
       "      <td>7.9250</td>\n",
       "      <td>G6</td>\n",
       "      <td>S</td>\n",
       "    </tr>\n",
       "    <tr>\n",
       "      <th>3</th>\n",
       "      <td>4</td>\n",
       "      <td>1</td>\n",
       "      <td>1</td>\n",
       "      <td>Futrelle, Mrs. Jacques Heath (Lily May Peel)</td>\n",
       "      <td>female</td>\n",
       "      <td>35.0</td>\n",
       "      <td>1</td>\n",
       "      <td>0</td>\n",
       "      <td>113803</td>\n",
       "      <td>53.1000</td>\n",
       "      <td>C123</td>\n",
       "      <td>S</td>\n",
       "    </tr>\n",
       "    <tr>\n",
       "      <th>4</th>\n",
       "      <td>5</td>\n",
       "      <td>0</td>\n",
       "      <td>3</td>\n",
       "      <td>Allen, Mr. William Henry</td>\n",
       "      <td>male</td>\n",
       "      <td>35.0</td>\n",
       "      <td>0</td>\n",
       "      <td>0</td>\n",
       "      <td>373450</td>\n",
       "      <td>8.0500</td>\n",
       "      <td>E10</td>\n",
       "      <td>S</td>\n",
       "    </tr>\n",
       "  </tbody>\n",
       "</table>\n",
       "</div>"
      ],
      "text/plain": [
       "   PassengerId  Survived  Pclass  \\\n",
       "0            1         0       3   \n",
       "1            2         1       1   \n",
       "2            3         1       3   \n",
       "3            4         1       1   \n",
       "4            5         0       3   \n",
       "\n",
       "                                                Name     Sex   Age  SibSp  \\\n",
       "0                            Braund, Mr. Owen Harris    male  22.0      1   \n",
       "1  Cumings, Mrs. John Bradley (Florence Briggs Th...  female  38.0      1   \n",
       "2                             Heikkinen, Miss. Laina  female  26.0      0   \n",
       "3       Futrelle, Mrs. Jacques Heath (Lily May Peel)  female  35.0      1   \n",
       "4                           Allen, Mr. William Henry    male  35.0      0   \n",
       "\n",
       "   Parch            Ticket     Fare Cabin Embarked  \n",
       "0      0         A/5 21171   7.2500    G6        S  \n",
       "1      0          PC 17599  71.2833   C85        C  \n",
       "2      0  STON/O2. 3101282   7.9250    G6        S  \n",
       "3      0            113803  53.1000  C123        S  \n",
       "4      0            373450   8.0500   E10        S  "
      ]
     },
     "execution_count": 13,
     "metadata": {},
     "output_type": "execute_result"
    }
   ],
   "source": [
    "df.head()"
   ]
  },
  {
   "cell_type": "code",
   "execution_count": 14,
   "id": "6c4fe9de",
   "metadata": {
    "execution": {
     "iopub.execute_input": "2025-06-06T07:17:06.171763Z",
     "iopub.status.busy": "2025-06-06T07:17:06.171467Z",
     "iopub.status.idle": "2025-06-06T07:17:06.199507Z",
     "shell.execute_reply": "2025-06-06T07:17:06.198612Z"
    },
    "id": "PwWKNdyhHH8k",
    "outputId": "d0153de4-99dc-4f66-a8f1-0f3fd727cf53",
    "papermill": {
     "duration": 0.038042,
     "end_time": "2025-06-06T07:17:06.201127",
     "exception": false,
     "start_time": "2025-06-06T07:17:06.163085",
     "status": "completed"
    },
    "tags": []
   },
   "outputs": [
    {
     "data": {
      "text/html": [
       "<div>\n",
       "<style scoped>\n",
       "    .dataframe tbody tr th:only-of-type {\n",
       "        vertical-align: middle;\n",
       "    }\n",
       "\n",
       "    .dataframe tbody tr th {\n",
       "        vertical-align: top;\n",
       "    }\n",
       "\n",
       "    .dataframe thead th {\n",
       "        text-align: right;\n",
       "    }\n",
       "</style>\n",
       "<table border=\"1\" class=\"dataframe\">\n",
       "  <thead>\n",
       "    <tr style=\"text-align: right;\">\n",
       "      <th></th>\n",
       "      <th>count</th>\n",
       "      <th>mean</th>\n",
       "      <th>std</th>\n",
       "      <th>min</th>\n",
       "      <th>25%</th>\n",
       "      <th>50%</th>\n",
       "      <th>75%</th>\n",
       "      <th>max</th>\n",
       "    </tr>\n",
       "  </thead>\n",
       "  <tbody>\n",
       "    <tr>\n",
       "      <th>PassengerId</th>\n",
       "      <td>891.0</td>\n",
       "      <td>446.000000</td>\n",
       "      <td>257.353842</td>\n",
       "      <td>1.00</td>\n",
       "      <td>223.5000</td>\n",
       "      <td>446.0000</td>\n",
       "      <td>668.5</td>\n",
       "      <td>891.0000</td>\n",
       "    </tr>\n",
       "    <tr>\n",
       "      <th>Survived</th>\n",
       "      <td>891.0</td>\n",
       "      <td>0.383838</td>\n",
       "      <td>0.486592</td>\n",
       "      <td>0.00</td>\n",
       "      <td>0.0000</td>\n",
       "      <td>0.0000</td>\n",
       "      <td>1.0</td>\n",
       "      <td>1.0000</td>\n",
       "    </tr>\n",
       "    <tr>\n",
       "      <th>Pclass</th>\n",
       "      <td>891.0</td>\n",
       "      <td>2.308642</td>\n",
       "      <td>0.836071</td>\n",
       "      <td>1.00</td>\n",
       "      <td>2.0000</td>\n",
       "      <td>3.0000</td>\n",
       "      <td>3.0</td>\n",
       "      <td>3.0000</td>\n",
       "    </tr>\n",
       "    <tr>\n",
       "      <th>Age</th>\n",
       "      <td>891.0</td>\n",
       "      <td>29.693733</td>\n",
       "      <td>13.578973</td>\n",
       "      <td>0.42</td>\n",
       "      <td>21.0000</td>\n",
       "      <td>29.0000</td>\n",
       "      <td>37.0</td>\n",
       "      <td>80.0000</td>\n",
       "    </tr>\n",
       "    <tr>\n",
       "      <th>SibSp</th>\n",
       "      <td>891.0</td>\n",
       "      <td>0.523008</td>\n",
       "      <td>1.102743</td>\n",
       "      <td>0.00</td>\n",
       "      <td>0.0000</td>\n",
       "      <td>0.0000</td>\n",
       "      <td>1.0</td>\n",
       "      <td>8.0000</td>\n",
       "    </tr>\n",
       "    <tr>\n",
       "      <th>Parch</th>\n",
       "      <td>891.0</td>\n",
       "      <td>0.381594</td>\n",
       "      <td>0.806057</td>\n",
       "      <td>0.00</td>\n",
       "      <td>0.0000</td>\n",
       "      <td>0.0000</td>\n",
       "      <td>0.0</td>\n",
       "      <td>6.0000</td>\n",
       "    </tr>\n",
       "    <tr>\n",
       "      <th>Fare</th>\n",
       "      <td>891.0</td>\n",
       "      <td>32.204208</td>\n",
       "      <td>49.693429</td>\n",
       "      <td>0.00</td>\n",
       "      <td>7.9104</td>\n",
       "      <td>14.4542</td>\n",
       "      <td>31.0</td>\n",
       "      <td>512.3292</td>\n",
       "    </tr>\n",
       "  </tbody>\n",
       "</table>\n",
       "</div>"
      ],
      "text/plain": [
       "             count        mean         std   min       25%       50%    75%  \\\n",
       "PassengerId  891.0  446.000000  257.353842  1.00  223.5000  446.0000  668.5   \n",
       "Survived     891.0    0.383838    0.486592  0.00    0.0000    0.0000    1.0   \n",
       "Pclass       891.0    2.308642    0.836071  1.00    2.0000    3.0000    3.0   \n",
       "Age          891.0   29.693733   13.578973  0.42   21.0000   29.0000   37.0   \n",
       "SibSp        891.0    0.523008    1.102743  0.00    0.0000    0.0000    1.0   \n",
       "Parch        891.0    0.381594    0.806057  0.00    0.0000    0.0000    0.0   \n",
       "Fare         891.0   32.204208   49.693429  0.00    7.9104   14.4542   31.0   \n",
       "\n",
       "                  max  \n",
       "PassengerId  891.0000  \n",
       "Survived       1.0000  \n",
       "Pclass         3.0000  \n",
       "Age           80.0000  \n",
       "SibSp          8.0000  \n",
       "Parch          6.0000  \n",
       "Fare         512.3292  "
      ]
     },
     "execution_count": 14,
     "metadata": {},
     "output_type": "execute_result"
    }
   ],
   "source": [
    "df.describe().T"
   ]
  },
  {
   "cell_type": "code",
   "execution_count": 15,
   "id": "e4b0290e",
   "metadata": {
    "execution": {
     "iopub.execute_input": "2025-06-06T07:17:06.217881Z",
     "iopub.status.busy": "2025-06-06T07:17:06.217591Z",
     "iopub.status.idle": "2025-06-06T07:17:06.228718Z",
     "shell.execute_reply": "2025-06-06T07:17:06.227670Z"
    },
    "id": "DQg8za71LQrG",
    "outputId": "85be92f8-bde6-4d72-f6bc-e4e0711eba2f",
    "papermill": {
     "duration": 0.021059,
     "end_time": "2025-06-06T07:17:06.230162",
     "exception": false,
     "start_time": "2025-06-06T07:17:06.209103",
     "status": "completed"
    },
    "tags": []
   },
   "outputs": [
    {
     "name": "stdout",
     "output_type": "stream",
     "text": [
      "<class 'pandas.core.frame.DataFrame'>\n",
      "RangeIndex: 891 entries, 0 to 890\n",
      "Data columns (total 12 columns):\n",
      " #   Column       Non-Null Count  Dtype  \n",
      "---  ------       --------------  -----  \n",
      " 0   PassengerId  891 non-null    int64  \n",
      " 1   Survived     891 non-null    int64  \n",
      " 2   Pclass       891 non-null    int64  \n",
      " 3   Name         891 non-null    object \n",
      " 4   Sex          891 non-null    object \n",
      " 5   Age          891 non-null    float64\n",
      " 6   SibSp        891 non-null    int64  \n",
      " 7   Parch        891 non-null    int64  \n",
      " 8   Ticket       891 non-null    object \n",
      " 9   Fare         891 non-null    float64\n",
      " 10  Cabin        891 non-null    object \n",
      " 11  Embarked     891 non-null    object \n",
      "dtypes: float64(2), int64(5), object(5)\n",
      "memory usage: 83.7+ KB\n"
     ]
    }
   ],
   "source": [
    "# lets impute faregroup null values with itrative imputer\n",
    "df.info()"
   ]
  },
  {
   "cell_type": "code",
   "execution_count": 16,
   "id": "8d73efea",
   "metadata": {
    "execution": {
     "iopub.execute_input": "2025-06-06T07:17:06.247102Z",
     "iopub.status.busy": "2025-06-06T07:17:06.246810Z",
     "iopub.status.idle": "2025-06-06T07:17:06.264983Z",
     "shell.execute_reply": "2025-06-06T07:17:06.263930Z"
    },
    "id": "8370d4e2",
    "outputId": "09bf2fb0-0d5b-409d-8eca-419fdad3081e",
    "papermill": {
     "duration": 0.028422,
     "end_time": "2025-06-06T07:17:06.266698",
     "exception": false,
     "start_time": "2025-06-06T07:17:06.238276",
     "status": "completed"
    },
    "tags": []
   },
   "outputs": [
    {
     "data": {
      "text/html": [
       "<div>\n",
       "<style scoped>\n",
       "    .dataframe tbody tr th:only-of-type {\n",
       "        vertical-align: middle;\n",
       "    }\n",
       "\n",
       "    .dataframe tbody tr th {\n",
       "        vertical-align: top;\n",
       "    }\n",
       "\n",
       "    .dataframe thead th {\n",
       "        text-align: right;\n",
       "    }\n",
       "</style>\n",
       "<table border=\"1\" class=\"dataframe\">\n",
       "  <thead>\n",
       "    <tr style=\"text-align: right;\">\n",
       "      <th></th>\n",
       "      <th>PassengerId</th>\n",
       "      <th>Survived</th>\n",
       "      <th>Pclass</th>\n",
       "      <th>Name</th>\n",
       "      <th>Sex</th>\n",
       "      <th>Age</th>\n",
       "      <th>SibSp</th>\n",
       "      <th>Parch</th>\n",
       "      <th>Ticket</th>\n",
       "      <th>Fare</th>\n",
       "      <th>Cabin</th>\n",
       "      <th>Embarked</th>\n",
       "    </tr>\n",
       "  </thead>\n",
       "  <tbody>\n",
       "    <tr>\n",
       "      <th>0</th>\n",
       "      <td>1</td>\n",
       "      <td>0</td>\n",
       "      <td>3</td>\n",
       "      <td>108</td>\n",
       "      <td>1</td>\n",
       "      <td>22.0</td>\n",
       "      <td>1</td>\n",
       "      <td>0</td>\n",
       "      <td>523</td>\n",
       "      <td>7.2500</td>\n",
       "      <td>145</td>\n",
       "      <td>2</td>\n",
       "    </tr>\n",
       "    <tr>\n",
       "      <th>1</th>\n",
       "      <td>2</td>\n",
       "      <td>1</td>\n",
       "      <td>1</td>\n",
       "      <td>190</td>\n",
       "      <td>0</td>\n",
       "      <td>38.0</td>\n",
       "      <td>1</td>\n",
       "      <td>0</td>\n",
       "      <td>596</td>\n",
       "      <td>71.2833</td>\n",
       "      <td>81</td>\n",
       "      <td>0</td>\n",
       "    </tr>\n",
       "    <tr>\n",
       "      <th>2</th>\n",
       "      <td>3</td>\n",
       "      <td>1</td>\n",
       "      <td>3</td>\n",
       "      <td>353</td>\n",
       "      <td>0</td>\n",
       "      <td>26.0</td>\n",
       "      <td>0</td>\n",
       "      <td>0</td>\n",
       "      <td>669</td>\n",
       "      <td>7.9250</td>\n",
       "      <td>145</td>\n",
       "      <td>2</td>\n",
       "    </tr>\n",
       "    <tr>\n",
       "      <th>3</th>\n",
       "      <td>4</td>\n",
       "      <td>1</td>\n",
       "      <td>1</td>\n",
       "      <td>272</td>\n",
       "      <td>0</td>\n",
       "      <td>35.0</td>\n",
       "      <td>1</td>\n",
       "      <td>0</td>\n",
       "      <td>49</td>\n",
       "      <td>53.1000</td>\n",
       "      <td>55</td>\n",
       "      <td>2</td>\n",
       "    </tr>\n",
       "    <tr>\n",
       "      <th>4</th>\n",
       "      <td>5</td>\n",
       "      <td>0</td>\n",
       "      <td>3</td>\n",
       "      <td>15</td>\n",
       "      <td>1</td>\n",
       "      <td>35.0</td>\n",
       "      <td>0</td>\n",
       "      <td>0</td>\n",
       "      <td>472</td>\n",
       "      <td>8.0500</td>\n",
       "      <td>115</td>\n",
       "      <td>2</td>\n",
       "    </tr>\n",
       "  </tbody>\n",
       "</table>\n",
       "</div>"
      ],
      "text/plain": [
       "   PassengerId  Survived  Pclass  Name  Sex   Age  SibSp  Parch  Ticket  \\\n",
       "0            1         0       3   108    1  22.0      1      0     523   \n",
       "1            2         1       1   190    0  38.0      1      0     596   \n",
       "2            3         1       3   353    0  26.0      0      0     669   \n",
       "3            4         1       1   272    0  35.0      1      0      49   \n",
       "4            5         0       3    15    1  35.0      0      0     472   \n",
       "\n",
       "      Fare  Cabin  Embarked  \n",
       "0   7.2500    145         2  \n",
       "1  71.2833     81         0  \n",
       "2   7.9250    145         2  \n",
       "3  53.1000     55         2  \n",
       "4   8.0500    115         2  "
      ]
     },
     "execution_count": 16,
     "metadata": {},
     "output_type": "execute_result"
    }
   ],
   "source": [
    "# lets encode the categorical columns\n",
    "le_list = {}\n",
    "\n",
    "for col in df.columns:\n",
    "    if df[col].dtype == 'object' or df[col].dtype == 'category':\n",
    "        le = LabelEncoder()\n",
    "        df[col] = le.fit_transform(df[col])\n",
    "        le_list[col] = le\n",
    "\n",
    "df.head()"
   ]
  },
  {
   "cell_type": "code",
   "execution_count": 17,
   "id": "316ca7bd",
   "metadata": {
    "execution": {
     "iopub.execute_input": "2025-06-06T07:17:06.284185Z",
     "iopub.status.busy": "2025-06-06T07:17:06.283863Z",
     "iopub.status.idle": "2025-06-06T07:17:06.291589Z",
     "shell.execute_reply": "2025-06-06T07:17:06.290680Z"
    },
    "id": "0763b8d9",
    "papermill": {
     "duration": 0.01819,
     "end_time": "2025-06-06T07:17:06.293103",
     "exception": false,
     "start_time": "2025-06-06T07:17:06.274913",
     "status": "completed"
    },
    "tags": []
   },
   "outputs": [],
   "source": [
    "# # lets normalize the numeric columns\n",
    "scaler = StandardScaler()\n",
    "\n",
    "for col in numeric_cols:\n",
    "    df[col] = scaler.fit_transform(df[col].values.reshape(-1, 1))"
   ]
  },
  {
   "cell_type": "code",
   "execution_count": 18,
   "id": "510d4bd8",
   "metadata": {
    "execution": {
     "iopub.execute_input": "2025-06-06T07:17:06.310986Z",
     "iopub.status.busy": "2025-06-06T07:17:06.310700Z",
     "iopub.status.idle": "2025-06-06T07:17:06.319461Z",
     "shell.execute_reply": "2025-06-06T07:17:06.318589Z"
    },
    "id": "1c7fce18",
    "papermill": {
     "duration": 0.019837,
     "end_time": "2025-06-06T07:17:06.321074",
     "exception": false,
     "start_time": "2025-06-06T07:17:06.301237",
     "status": "completed"
    },
    "tags": []
   },
   "outputs": [],
   "source": [
    "# Split the data into X and y\n",
    "X = df.drop('Survived', axis=1)\n",
    "y = df['Survived']\n",
    "\n",
    "# Split the data into training and testing sets\n",
    "X_train, X_test, y_train, y_test = train_test_split(X, y, test_size=0.2, random_state=42)"
   ]
  },
  {
   "cell_type": "markdown",
   "id": "7859dcf8",
   "metadata": {
    "id": "59c6a926",
    "papermill": {
     "duration": 0.007788,
     "end_time": "2025-06-06T07:17:06.337742",
     "exception": false,
     "start_time": "2025-06-06T07:17:06.329954",
     "status": "completed"
    },
    "tags": []
   },
   "source": [
    "# Model Building"
   ]
  },
  {
   "cell_type": "code",
   "execution_count": 19,
   "id": "7e752583",
   "metadata": {
    "execution": {
     "iopub.execute_input": "2025-06-06T07:17:06.355087Z",
     "iopub.status.busy": "2025-06-06T07:17:06.354813Z",
     "iopub.status.idle": "2025-06-06T07:17:18.841107Z",
     "shell.execute_reply": "2025-06-06T07:17:18.840159Z"
    },
    "id": "qnslGX7TogQQ",
    "outputId": "5ce96d91-49ed-4600-ec32-fdfa1679680c",
    "papermill": {
     "duration": 12.497084,
     "end_time": "2025-06-06T07:17:18.842912",
     "exception": false,
     "start_time": "2025-06-06T07:17:06.345828",
     "status": "completed"
    },
    "tags": []
   },
   "outputs": [
    {
     "name": "stdout",
     "output_type": "stream",
     "text": [
      "Random Forest: 0.8659\n",
      "CatBoost: 0.8547\n",
      "Gradient Boosting: 0.8436\n",
      "XGBoost: 0.8436\n",
      "Logistic Regression: 0.8156\n",
      "SVM: 0.6592\n"
     ]
    }
   ],
   "source": [
    "from sklearn.linear_model import LogisticRegression\n",
    "from sklearn.ensemble import RandomForestClassifier, GradientBoostingClassifier\n",
    "from sklearn.svm import SVC\n",
    "from sklearn.metrics import accuracy_score\n",
    "\n",
    "import xgboost as xgb\n",
    "import lightgbm as lgb\n",
    "from catboost import CatBoostClassifier\n",
    "\n",
    "models = {\n",
    "    'Logistic Regression': LogisticRegression(max_iter=1000, random_state=6),\n",
    "    'Random Forest': RandomForestClassifier(n_estimators=200,  random_state = 24),\n",
    "    'Gradient Boosting': GradientBoostingClassifier(random_state=46),\n",
    "    'SVM': SVC(random_state=24),\n",
    "    'XGBoost': xgb.XGBClassifier(use_label_encoder=False, eval_metric='logloss', random_state=19),\n",
    "    'CatBoost': CatBoostClassifier(verbose=0,  random_state = 34)\n",
    "}\n",
    "\n",
    "results = {}\n",
    "\n",
    "for name, model in models.items():\n",
    "    model.fit(X_train, y_train)\n",
    "    preds = model.predict(X_test)\n",
    "    acc = accuracy_score(y_test, preds)\n",
    "    results[name] = acc\n",
    "\n",
    "    # Sort and show top models\n",
    "top_models = sorted(results.items(), key=lambda x: x[1], reverse=True)\n",
    "for model, score in top_models[:]:\n",
    "    print(f\"{model}: {score:.4f}\")"
   ]
  },
  {
   "cell_type": "code",
   "execution_count": 20,
   "id": "e6940080",
   "metadata": {
    "execution": {
     "iopub.execute_input": "2025-06-06T07:17:18.862383Z",
     "iopub.status.busy": "2025-06-06T07:17:18.862019Z",
     "iopub.status.idle": "2025-06-06T07:22:17.392909Z",
     "shell.execute_reply": "2025-06-06T07:22:17.391795Z"
    },
    "id": "PkQxJhs2vPqd",
    "outputId": "7b7a4ed3-a62b-4e35-a1bc-f3ddd1dd98cf",
    "papermill": {
     "duration": 298.550869,
     "end_time": "2025-06-06T07:22:17.403334",
     "exception": false,
     "start_time": "2025-06-06T07:17:18.852465",
     "status": "completed"
    },
    "tags": []
   },
   "outputs": [
    {
     "name": "stdout",
     "output_type": "stream",
     "text": [
      "\n",
      "Evaluating: Logistic Regression\n",
      "\n",
      "Evaluating: Random Forest\n",
      "\n",
      "Evaluating: Gradient Boosting\n",
      "\n",
      "Evaluating: SVM\n",
      "\n",
      "Evaluating: XGBoost\n",
      "\n",
      "Evaluating: CatBoost\n",
      "\n",
      "Top Models (Accuracy and Best Random State):\n",
      "CatBoost: Accuracy = 0.9162, Random State = 19\n",
      "XGBoost: Accuracy = 0.9050, Random State = 34\n",
      "Random Forest: Accuracy = 0.8994, Random State = 34\n",
      "Gradient Boosting: Accuracy = 0.8883, Random State = 27\n",
      "Logistic Regression: Accuracy = 0.8827, Random State = 6\n",
      "SVM: Accuracy = 0.7039, Random State = 4\n"
     ]
    }
   ],
   "source": [
    "# Range of random states to try\n",
    "random_states = list(range(0, 51,1))  # 0, 5, 10, ..., 50\n",
    "\n",
    "# Dictionary to store best result per model\n",
    "best_results = {}\n",
    "\n",
    "# Run loop\n",
    "for name, model in models.items():\n",
    "    print(f\"\\nEvaluating: {name}\")\n",
    "    best_score = 0\n",
    "    best_rs = None\n",
    "\n",
    "    for rs in random_states:\n",
    "        X_train, X_test, y_train, y_test = train_test_split(X, y, test_size=0.2, random_state=rs)\n",
    "\n",
    "        try:\n",
    "            model.fit(X_train, y_train)\n",
    "            preds = model.predict(X_test)\n",
    "            acc = accuracy_score(y_test, preds)\n",
    "\n",
    "            if acc > best_score:\n",
    "                best_score = acc\n",
    "                best_rs = rs\n",
    "        except Exception as e:\n",
    "            print(f\"Error in {name} at random_state {rs}: {e}\")\n",
    "            continue\n",
    "\n",
    "    best_results[name] = {\n",
    "        'Best Accuracy': best_score,\n",
    "        'Best Random State': best_rs\n",
    "    }\n",
    "\n",
    "# Show sorted top models\n",
    "print(\"\\nTop Models (Accuracy and Best Random State):\")\n",
    "sorted_results = sorted(best_results.items(), key=lambda x: x[1]['Best Accuracy'], reverse=True)\n",
    "\n",
    "for name, res in sorted_results:\n",
    "    print(f\"{name}: Accuracy = {res['Best Accuracy']:.4f}, Random State = {res['Best Random State']}\")\n"
   ]
  },
  {
   "cell_type": "code",
   "execution_count": 21,
   "id": "94fe665a",
   "metadata": {
    "execution": {
     "iopub.execute_input": "2025-06-06T07:22:17.490149Z",
     "iopub.status.busy": "2025-06-06T07:22:17.489840Z",
     "iopub.status.idle": "2025-06-06T07:22:19.103980Z",
     "shell.execute_reply": "2025-06-06T07:22:19.103056Z"
    },
    "id": "XhKWlVdS_A9A",
    "outputId": "f1475145-3709-4aa4-87ee-34a58689c398",
    "papermill": {
     "duration": 1.693397,
     "end_time": "2025-06-06T07:22:19.105862",
     "exception": false,
     "start_time": "2025-06-06T07:22:17.412465",
     "status": "completed"
    },
    "tags": []
   },
   "outputs": [
    {
     "name": "stdout",
     "output_type": "stream",
     "text": [
      "\n",
      "Saved CatBoost model to file: CatBoost_best_model.pkl\n",
      "Reloaded model accuracy: 0.9162011173184358\n"
     ]
    }
   ],
   "source": [
    "from sklearn.model_selection import train_test_split\n",
    "from sklearn.metrics import accuracy_score\n",
    "import joblib\n",
    "\n",
    "# Assume sorted_results = [(model_name, {'Best Random State': int, ...}), ...]\n",
    "# And models = {'Model Name': model_instance}\n",
    "\n",
    "# 1. Select best model (1st in sorted_results)\n",
    "best_model = sorted_results[0]\n",
    "model_name = best_model[0]\n",
    "best_random_state = best_model[1]['Best Random State']\n",
    "\n",
    "# 2. Get model object\n",
    "final_model_class = models[model_name]\n",
    "\n",
    "# 3. Split data using best random state\n",
    "X_train, X_test, y_train, y_test = train_test_split(X, y, test_size=0.2, random_state=best_random_state)\n",
    "\n",
    "# 4. Train model\n",
    "final_model_class.fit(X_train, y_train)\n",
    "\n",
    "# 5. Save model to file\n",
    "file_name = f\"{model_name.replace(' ', '_')}_best_model.pkl\"\n",
    "joblib.dump(final_model_class, file_name)\n",
    "print(f\"\\nSaved {model_name} model to file: {file_name}\")\n",
    "\n",
    "# 6. Load model\n",
    "loaded_model = joblib.load(file_name)\n",
    "\n",
    "# 7. Predict and evaluate\n",
    "predictions = loaded_model.predict(X_test)\n",
    "pred_acc = accuracy_score(y_test, predictions)\n",
    "print(\"Reloaded model accuracy:\", pred_acc)\n"
   ]
  },
  {
   "cell_type": "markdown",
   "id": "44f33015",
   "metadata": {
    "id": "e74b86a2",
    "papermill": {
     "duration": 0.008458,
     "end_time": "2025-06-06T07:22:19.123390",
     "exception": false,
     "start_time": "2025-06-06T07:22:19.114932",
     "status": "completed"
    },
    "tags": []
   },
   "source": [
    "# Exploring the test data"
   ]
  },
  {
   "cell_type": "code",
   "execution_count": 22,
   "id": "fa37bd60",
   "metadata": {
    "execution": {
     "iopub.execute_input": "2025-06-06T07:22:19.142369Z",
     "iopub.status.busy": "2025-06-06T07:22:19.142006Z",
     "iopub.status.idle": "2025-06-06T07:22:19.156265Z",
     "shell.execute_reply": "2025-06-06T07:22:19.155421Z"
    },
    "id": "im1opx4S1szY",
    "outputId": "553d0525-ebd0-4551-8a74-16a1bcb05ed4",
    "papermill": {
     "duration": 0.025824,
     "end_time": "2025-06-06T07:22:19.157858",
     "exception": false,
     "start_time": "2025-06-06T07:22:19.132034",
     "status": "completed"
    },
    "tags": []
   },
   "outputs": [
    {
     "data": {
      "text/html": [
       "<div>\n",
       "<style scoped>\n",
       "    .dataframe tbody tr th:only-of-type {\n",
       "        vertical-align: middle;\n",
       "    }\n",
       "\n",
       "    .dataframe tbody tr th {\n",
       "        vertical-align: top;\n",
       "    }\n",
       "\n",
       "    .dataframe thead th {\n",
       "        text-align: right;\n",
       "    }\n",
       "</style>\n",
       "<table border=\"1\" class=\"dataframe\">\n",
       "  <thead>\n",
       "    <tr style=\"text-align: right;\">\n",
       "      <th></th>\n",
       "      <th>PassengerId</th>\n",
       "      <th>Pclass</th>\n",
       "      <th>Name</th>\n",
       "      <th>Sex</th>\n",
       "      <th>Age</th>\n",
       "      <th>SibSp</th>\n",
       "      <th>Parch</th>\n",
       "      <th>Ticket</th>\n",
       "      <th>Fare</th>\n",
       "      <th>Cabin</th>\n",
       "      <th>Embarked</th>\n",
       "    </tr>\n",
       "  </thead>\n",
       "  <tbody>\n",
       "    <tr>\n",
       "      <th>0</th>\n",
       "      <td>892</td>\n",
       "      <td>3</td>\n",
       "      <td>Kelly, Mr. James</td>\n",
       "      <td>male</td>\n",
       "      <td>34.5</td>\n",
       "      <td>0</td>\n",
       "      <td>0</td>\n",
       "      <td>330911</td>\n",
       "      <td>7.8292</td>\n",
       "      <td>NaN</td>\n",
       "      <td>Q</td>\n",
       "    </tr>\n",
       "    <tr>\n",
       "      <th>1</th>\n",
       "      <td>893</td>\n",
       "      <td>3</td>\n",
       "      <td>Wilkes, Mrs. James (Ellen Needs)</td>\n",
       "      <td>female</td>\n",
       "      <td>47.0</td>\n",
       "      <td>1</td>\n",
       "      <td>0</td>\n",
       "      <td>363272</td>\n",
       "      <td>7.0000</td>\n",
       "      <td>NaN</td>\n",
       "      <td>S</td>\n",
       "    </tr>\n",
       "    <tr>\n",
       "      <th>2</th>\n",
       "      <td>894</td>\n",
       "      <td>2</td>\n",
       "      <td>Myles, Mr. Thomas Francis</td>\n",
       "      <td>male</td>\n",
       "      <td>62.0</td>\n",
       "      <td>0</td>\n",
       "      <td>0</td>\n",
       "      <td>240276</td>\n",
       "      <td>9.6875</td>\n",
       "      <td>NaN</td>\n",
       "      <td>Q</td>\n",
       "    </tr>\n",
       "    <tr>\n",
       "      <th>3</th>\n",
       "      <td>895</td>\n",
       "      <td>3</td>\n",
       "      <td>Wirz, Mr. Albert</td>\n",
       "      <td>male</td>\n",
       "      <td>27.0</td>\n",
       "      <td>0</td>\n",
       "      <td>0</td>\n",
       "      <td>315154</td>\n",
       "      <td>8.6625</td>\n",
       "      <td>NaN</td>\n",
       "      <td>S</td>\n",
       "    </tr>\n",
       "    <tr>\n",
       "      <th>4</th>\n",
       "      <td>896</td>\n",
       "      <td>3</td>\n",
       "      <td>Hirvonen, Mrs. Alexander (Helga E Lindqvist)</td>\n",
       "      <td>female</td>\n",
       "      <td>22.0</td>\n",
       "      <td>1</td>\n",
       "      <td>1</td>\n",
       "      <td>3101298</td>\n",
       "      <td>12.2875</td>\n",
       "      <td>NaN</td>\n",
       "      <td>S</td>\n",
       "    </tr>\n",
       "  </tbody>\n",
       "</table>\n",
       "</div>"
      ],
      "text/plain": [
       "   PassengerId  Pclass                                          Name     Sex  \\\n",
       "0          892       3                              Kelly, Mr. James    male   \n",
       "1          893       3              Wilkes, Mrs. James (Ellen Needs)  female   \n",
       "2          894       2                     Myles, Mr. Thomas Francis    male   \n",
       "3          895       3                              Wirz, Mr. Albert    male   \n",
       "4          896       3  Hirvonen, Mrs. Alexander (Helga E Lindqvist)  female   \n",
       "\n",
       "    Age  SibSp  Parch   Ticket     Fare Cabin Embarked  \n",
       "0  34.5      0      0   330911   7.8292   NaN        Q  \n",
       "1  47.0      1      0   363272   7.0000   NaN        S  \n",
       "2  62.0      0      0   240276   9.6875   NaN        Q  \n",
       "3  27.0      0      0   315154   8.6625   NaN        S  \n",
       "4  22.0      1      1  3101298  12.2875   NaN        S  "
      ]
     },
     "execution_count": 22,
     "metadata": {},
     "output_type": "execute_result"
    }
   ],
   "source": [
    "df_test.head()"
   ]
  },
  {
   "cell_type": "code",
   "execution_count": 23,
   "id": "9d1a22df",
   "metadata": {
    "execution": {
     "iopub.execute_input": "2025-06-06T07:22:19.178586Z",
     "iopub.status.busy": "2025-06-06T07:22:19.177725Z",
     "iopub.status.idle": "2025-06-06T07:22:19.185631Z",
     "shell.execute_reply": "2025-06-06T07:22:19.184773Z"
    },
    "id": "ldtcbDgc2I8e",
    "outputId": "8d236058-52f7-4e9a-fc5b-356a76974bb2",
    "papermill": {
     "duration": 0.019953,
     "end_time": "2025-06-06T07:22:19.187121",
     "exception": false,
     "start_time": "2025-06-06T07:22:19.167168",
     "status": "completed"
    },
    "tags": []
   },
   "outputs": [
    {
     "data": {
      "text/plain": [
       "PassengerId      0\n",
       "Pclass           0\n",
       "Name             0\n",
       "Sex              0\n",
       "Age             86\n",
       "SibSp            0\n",
       "Parch            0\n",
       "Ticket           0\n",
       "Fare             1\n",
       "Cabin          327\n",
       "Embarked         0\n",
       "dtype: int64"
      ]
     },
     "execution_count": 23,
     "metadata": {},
     "output_type": "execute_result"
    }
   ],
   "source": [
    "df_test.isna().sum()"
   ]
  },
  {
   "cell_type": "markdown",
   "id": "c7590d42",
   "metadata": {
    "id": "057e7c0e",
    "papermill": {
     "duration": 0.009098,
     "end_time": "2025-06-06T07:22:19.205665",
     "exception": false,
     "start_time": "2025-06-06T07:22:19.196567",
     "status": "completed"
    },
    "tags": []
   },
   "source": [
    "# Imputing the missing values in the test data\n"
   ]
  },
  {
   "cell_type": "code",
   "execution_count": 24,
   "id": "f9065286",
   "metadata": {
    "execution": {
     "iopub.execute_input": "2025-06-06T07:22:19.225750Z",
     "iopub.status.busy": "2025-06-06T07:22:19.225420Z",
     "iopub.status.idle": "2025-06-06T07:22:19.237388Z",
     "shell.execute_reply": "2025-06-06T07:22:19.236405Z"
    },
    "id": "OOLO_c5p3KXz",
    "jupyter": {
     "source_hidden": true
    },
    "outputId": "d00e89bf-3450-442e-8889-4966c1ea1dc6",
    "papermill": {
     "duration": 0.023936,
     "end_time": "2025-06-06T07:22:19.238857",
     "exception": false,
     "start_time": "2025-06-06T07:22:19.214921",
     "status": "completed"
    },
    "tags": []
   },
   "outputs": [
    {
     "name": "stdout",
     "output_type": "stream",
     "text": [
      "['Age', 'Fare', 'Cabin']\n"
     ]
    }
   ],
   "source": [
    "df = df_test\n",
    "# let's split the  columns with missing values into list\n",
    "df.isnull().sum()[df.isnull().sum() > 0].sort_values(ascending=False)\n",
    "missing_data_cols = df.isnull().sum()[df.isnull().sum() > 0].index.tolist()\n",
    "print(missing_data_cols)\n",
    "# let's split the columns with missing values into categorical and numeric columns\n",
    "categorical_cols = [col for col in df.columns if df_train[col].dtypes == 'O']\n",
    "bool_cols = []\n",
    "numeric_cols = [col for col in df.columns if df_train[col].dtypes == 'float64']\n"
   ]
  },
  {
   "cell_type": "code",
   "execution_count": 25,
   "id": "e467d19e",
   "metadata": {
    "execution": {
     "iopub.execute_input": "2025-06-06T07:22:19.259100Z",
     "iopub.status.busy": "2025-06-06T07:22:19.258788Z",
     "iopub.status.idle": "2025-06-06T07:22:19.754978Z",
     "shell.execute_reply": "2025-06-06T07:22:19.753893Z"
    },
    "id": "6KFQdYiB3he5",
    "outputId": "ce48c42d-44ac-40be-bb5e-2e2ec4f1cbae",
    "papermill": {
     "duration": 0.508362,
     "end_time": "2025-06-06T07:22:19.756688",
     "exception": false,
     "start_time": "2025-06-06T07:22:19.248326",
     "status": "completed"
    },
    "tags": []
   },
   "outputs": [
    {
     "name": "stdout",
     "output_type": "stream",
     "text": [
      "Missing Values Age : 20.57%\n",
      "MAE = 9.65595671641791 \n",
      "\n",
      "R2 = 0.12485047602574839 \n",
      "\n",
      "Missing Values Fare : 0.24%\n",
      "MAE = 20.278831154761907 \n",
      "\n",
      "R2 = 0.3351074781832416 \n",
      "\n",
      "Missing Values Cabin : 78.23%\n"
     ]
    }
   ],
   "source": [
    "# impute missing values using our functions\n",
    "for col in missing_data_cols:\n",
    "    print(\"Missing Values\", col, \":\", str(round((df[col].isnull().sum() / len(df)) * 100, 2))+\"%\")\n",
    "    if col in categorical_cols:\n",
    "        df[col] = impute_categorical_missing_data(col)\n",
    "    elif col in numeric_cols:\n",
    "        df[col] = impute_continuous_missing_data(col)\n",
    "        pass\n",
    "    else:\n",
    "        pass"
   ]
  },
  {
   "cell_type": "code",
   "execution_count": 26,
   "id": "a8d850e1",
   "metadata": {
    "execution": {
     "iopub.execute_input": "2025-06-06T07:22:19.776988Z",
     "iopub.status.busy": "2025-06-06T07:22:19.776678Z",
     "iopub.status.idle": "2025-06-06T07:22:19.793174Z",
     "shell.execute_reply": "2025-06-06T07:22:19.792301Z"
    },
    "id": "JHW9VfNq15CY",
    "outputId": "0e8120f5-7df9-4c1e-8825-213424bd8825",
    "papermill": {
     "duration": 0.028707,
     "end_time": "2025-06-06T07:22:19.794897",
     "exception": false,
     "start_time": "2025-06-06T07:22:19.766190",
     "status": "completed"
    },
    "tags": []
   },
   "outputs": [
    {
     "data": {
      "text/html": [
       "<div>\n",
       "<style scoped>\n",
       "    .dataframe tbody tr th:only-of-type {\n",
       "        vertical-align: middle;\n",
       "    }\n",
       "\n",
       "    .dataframe tbody tr th {\n",
       "        vertical-align: top;\n",
       "    }\n",
       "\n",
       "    .dataframe thead th {\n",
       "        text-align: right;\n",
       "    }\n",
       "</style>\n",
       "<table border=\"1\" class=\"dataframe\">\n",
       "  <thead>\n",
       "    <tr style=\"text-align: right;\">\n",
       "      <th></th>\n",
       "      <th>PassengerId</th>\n",
       "      <th>Pclass</th>\n",
       "      <th>Name</th>\n",
       "      <th>Sex</th>\n",
       "      <th>Age</th>\n",
       "      <th>SibSp</th>\n",
       "      <th>Parch</th>\n",
       "      <th>Ticket</th>\n",
       "      <th>Fare</th>\n",
       "      <th>Cabin</th>\n",
       "      <th>Embarked</th>\n",
       "    </tr>\n",
       "  </thead>\n",
       "  <tbody>\n",
       "    <tr>\n",
       "      <th>0</th>\n",
       "      <td>892</td>\n",
       "      <td>3</td>\n",
       "      <td>206</td>\n",
       "      <td>1</td>\n",
       "      <td>34.5</td>\n",
       "      <td>0</td>\n",
       "      <td>0</td>\n",
       "      <td>152</td>\n",
       "      <td>7.8292</td>\n",
       "      <td>76</td>\n",
       "      <td>1</td>\n",
       "    </tr>\n",
       "    <tr>\n",
       "      <th>1</th>\n",
       "      <td>893</td>\n",
       "      <td>3</td>\n",
       "      <td>403</td>\n",
       "      <td>0</td>\n",
       "      <td>47.0</td>\n",
       "      <td>1</td>\n",
       "      <td>0</td>\n",
       "      <td>221</td>\n",
       "      <td>7.0000</td>\n",
       "      <td>76</td>\n",
       "      <td>2</td>\n",
       "    </tr>\n",
       "    <tr>\n",
       "      <th>2</th>\n",
       "      <td>894</td>\n",
       "      <td>2</td>\n",
       "      <td>269</td>\n",
       "      <td>1</td>\n",
       "      <td>62.0</td>\n",
       "      <td>0</td>\n",
       "      <td>0</td>\n",
       "      <td>73</td>\n",
       "      <td>9.6875</td>\n",
       "      <td>76</td>\n",
       "      <td>1</td>\n",
       "    </tr>\n",
       "    <tr>\n",
       "      <th>3</th>\n",
       "      <td>895</td>\n",
       "      <td>3</td>\n",
       "      <td>408</td>\n",
       "      <td>1</td>\n",
       "      <td>27.0</td>\n",
       "      <td>0</td>\n",
       "      <td>0</td>\n",
       "      <td>147</td>\n",
       "      <td>8.6625</td>\n",
       "      <td>76</td>\n",
       "      <td>2</td>\n",
       "    </tr>\n",
       "    <tr>\n",
       "      <th>4</th>\n",
       "      <td>896</td>\n",
       "      <td>3</td>\n",
       "      <td>178</td>\n",
       "      <td>0</td>\n",
       "      <td>22.0</td>\n",
       "      <td>1</td>\n",
       "      <td>1</td>\n",
       "      <td>138</td>\n",
       "      <td>12.2875</td>\n",
       "      <td>76</td>\n",
       "      <td>2</td>\n",
       "    </tr>\n",
       "  </tbody>\n",
       "</table>\n",
       "</div>"
      ],
      "text/plain": [
       "   PassengerId  Pclass  Name  Sex   Age  SibSp  Parch  Ticket     Fare  Cabin  \\\n",
       "0          892       3   206    1  34.5      0      0     152   7.8292     76   \n",
       "1          893       3   403    0  47.0      1      0     221   7.0000     76   \n",
       "2          894       2   269    1  62.0      0      0      73   9.6875     76   \n",
       "3          895       3   408    1  27.0      0      0     147   8.6625     76   \n",
       "4          896       3   178    0  22.0      1      1     138  12.2875     76   \n",
       "\n",
       "   Embarked  \n",
       "0         1  \n",
       "1         2  \n",
       "2         1  \n",
       "3         2  \n",
       "4         2  "
      ]
     },
     "execution_count": 26,
     "metadata": {},
     "output_type": "execute_result"
    }
   ],
   "source": [
    "# lets encode the categorical columns\n",
    "le_list = {}\n",
    "\n",
    "for col in df.columns:\n",
    "    if df[col].dtype == 'object' or df[col].dtype == 'category':\n",
    "        le = LabelEncoder()\n",
    "        df[col] = le.fit_transform(df[col])\n",
    "        le_list[col] = le\n",
    "\n",
    "df.head()\n"
   ]
  },
  {
   "cell_type": "code",
   "execution_count": 27,
   "id": "c7974731",
   "metadata": {
    "execution": {
     "iopub.execute_input": "2025-06-06T07:22:19.815163Z",
     "iopub.status.busy": "2025-06-06T07:22:19.814878Z",
     "iopub.status.idle": "2025-06-06T07:22:19.821289Z",
     "shell.execute_reply": "2025-06-06T07:22:19.820528Z"
    },
    "id": "3nnyYu6D3yRt",
    "papermill": {
     "duration": 0.018096,
     "end_time": "2025-06-06T07:22:19.822638",
     "exception": false,
     "start_time": "2025-06-06T07:22:19.804542",
     "status": "completed"
    },
    "tags": []
   },
   "outputs": [],
   "source": [
    "# # lets normalize the numeric columns\n",
    "scaler = StandardScaler()\n",
    "\n",
    "for col in numeric_cols:\n",
    "    df[col] = scaler.fit_transform(df[col].values.reshape(-1, 1))"
   ]
  },
  {
   "cell_type": "code",
   "execution_count": 28,
   "id": "6ab757e0",
   "metadata": {
    "execution": {
     "iopub.execute_input": "2025-06-06T07:22:19.842996Z",
     "iopub.status.busy": "2025-06-06T07:22:19.842699Z",
     "iopub.status.idle": "2025-06-06T07:22:19.853954Z",
     "shell.execute_reply": "2025-06-06T07:22:19.853036Z"
    },
    "id": "YVSn0MzE3zxw",
    "outputId": "b310079f-ee13-4d8c-feaf-d5e17a68a186",
    "papermill": {
     "duration": 0.022976,
     "end_time": "2025-06-06T07:22:19.855333",
     "exception": false,
     "start_time": "2025-06-06T07:22:19.832357",
     "status": "completed"
    },
    "tags": []
   },
   "outputs": [
    {
     "data": {
      "text/html": [
       "<div>\n",
       "<style scoped>\n",
       "    .dataframe tbody tr th:only-of-type {\n",
       "        vertical-align: middle;\n",
       "    }\n",
       "\n",
       "    .dataframe tbody tr th {\n",
       "        vertical-align: top;\n",
       "    }\n",
       "\n",
       "    .dataframe thead th {\n",
       "        text-align: right;\n",
       "    }\n",
       "</style>\n",
       "<table border=\"1\" class=\"dataframe\">\n",
       "  <thead>\n",
       "    <tr style=\"text-align: right;\">\n",
       "      <th></th>\n",
       "      <th>PassengerId</th>\n",
       "      <th>Pclass</th>\n",
       "      <th>Name</th>\n",
       "      <th>Sex</th>\n",
       "      <th>Age</th>\n",
       "      <th>SibSp</th>\n",
       "      <th>Parch</th>\n",
       "      <th>Ticket</th>\n",
       "      <th>Fare</th>\n",
       "      <th>Cabin</th>\n",
       "      <th>Embarked</th>\n",
       "    </tr>\n",
       "  </thead>\n",
       "  <tbody>\n",
       "    <tr>\n",
       "      <th>0</th>\n",
       "      <td>892</td>\n",
       "      <td>3</td>\n",
       "      <td>206</td>\n",
       "      <td>1</td>\n",
       "      <td>0.232071</td>\n",
       "      <td>0</td>\n",
       "      <td>0</td>\n",
       "      <td>152</td>\n",
       "      <td>-0.499160</td>\n",
       "      <td>76</td>\n",
       "      <td>1</td>\n",
       "    </tr>\n",
       "    <tr>\n",
       "      <th>1</th>\n",
       "      <td>893</td>\n",
       "      <td>3</td>\n",
       "      <td>403</td>\n",
       "      <td>0</td>\n",
       "      <td>1.188305</td>\n",
       "      <td>1</td>\n",
       "      <td>0</td>\n",
       "      <td>221</td>\n",
       "      <td>-0.514025</td>\n",
       "      <td>76</td>\n",
       "      <td>2</td>\n",
       "    </tr>\n",
       "    <tr>\n",
       "      <th>2</th>\n",
       "      <td>894</td>\n",
       "      <td>2</td>\n",
       "      <td>269</td>\n",
       "      <td>1</td>\n",
       "      <td>2.335786</td>\n",
       "      <td>0</td>\n",
       "      <td>0</td>\n",
       "      <td>73</td>\n",
       "      <td>-0.465846</td>\n",
       "      <td>76</td>\n",
       "      <td>1</td>\n",
       "    </tr>\n",
       "    <tr>\n",
       "      <th>3</th>\n",
       "      <td>895</td>\n",
       "      <td>3</td>\n",
       "      <td>408</td>\n",
       "      <td>1</td>\n",
       "      <td>-0.341669</td>\n",
       "      <td>0</td>\n",
       "      <td>0</td>\n",
       "      <td>147</td>\n",
       "      <td>-0.484221</td>\n",
       "      <td>76</td>\n",
       "      <td>2</td>\n",
       "    </tr>\n",
       "    <tr>\n",
       "      <th>4</th>\n",
       "      <td>896</td>\n",
       "      <td>3</td>\n",
       "      <td>178</td>\n",
       "      <td>0</td>\n",
       "      <td>-0.724163</td>\n",
       "      <td>1</td>\n",
       "      <td>1</td>\n",
       "      <td>138</td>\n",
       "      <td>-0.419236</td>\n",
       "      <td>76</td>\n",
       "      <td>2</td>\n",
       "    </tr>\n",
       "  </tbody>\n",
       "</table>\n",
       "</div>"
      ],
      "text/plain": [
       "   PassengerId  Pclass  Name  Sex       Age  SibSp  Parch  Ticket      Fare  \\\n",
       "0          892       3   206    1  0.232071      0      0     152 -0.499160   \n",
       "1          893       3   403    0  1.188305      1      0     221 -0.514025   \n",
       "2          894       2   269    1  2.335786      0      0      73 -0.465846   \n",
       "3          895       3   408    1 -0.341669      0      0     147 -0.484221   \n",
       "4          896       3   178    0 -0.724163      1      1     138 -0.419236   \n",
       "\n",
       "   Cabin  Embarked  \n",
       "0     76         1  \n",
       "1     76         2  \n",
       "2     76         1  \n",
       "3     76         2  \n",
       "4     76         2  "
      ]
     },
     "execution_count": 28,
     "metadata": {},
     "output_type": "execute_result"
    }
   ],
   "source": [
    "df.head()"
   ]
  },
  {
   "cell_type": "markdown",
   "id": "b8559e90",
   "metadata": {
    "id": "cee23eb9",
    "papermill": {
     "duration": 0.009546,
     "end_time": "2025-06-06T07:22:19.874695",
     "exception": false,
     "start_time": "2025-06-06T07:22:19.865149",
     "status": "completed"
    },
    "tags": []
   },
   "source": [
    "# Making predictions on the test data"
   ]
  },
  {
   "cell_type": "code",
   "execution_count": 29,
   "id": "b38248d8",
   "metadata": {
    "execution": {
     "iopub.execute_input": "2025-06-06T07:22:19.895945Z",
     "iopub.status.busy": "2025-06-06T07:22:19.895648Z",
     "iopub.status.idle": "2025-06-06T07:22:19.904377Z",
     "shell.execute_reply": "2025-06-06T07:22:19.903428Z"
    },
    "id": "nuRs1flw4DAy",
    "outputId": "84d565d8-266f-4c56-bda6-b309a76a892b",
    "papermill": {
     "duration": 0.021367,
     "end_time": "2025-06-06T07:22:19.905832",
     "exception": false,
     "start_time": "2025-06-06T07:22:19.884465",
     "status": "completed"
    },
    "tags": []
   },
   "outputs": [
    {
     "name": "stdout",
     "output_type": "stream",
     "text": [
      "Predictions: [0 0 0 0 0 0 0 0 1 0]\n"
     ]
    }
   ],
   "source": [
    "# Example: features used in training\n",
    "features = ['PassengerId', 'Pclass', 'Name', 'Sex', 'Age', 'SibSp', 'Parch', 'Ticket', 'Fare', 'Cabin', 'Embarked']\n",
    "\n",
    "# Ensure df_test is preprocessed and has no nulls\n",
    "X_test = df_test[features]  # Make sure this is clean\n",
    "\n",
    "# Predict using loaded model\n",
    "predictions = loaded_model.predict(X_test)\n",
    "\n",
    "# Show first 10 predictions\n",
    "print(\"Predictions:\", predictions[:10])\n",
    "\n"
   ]
  },
  {
   "cell_type": "code",
   "execution_count": 30,
   "id": "609c81e6",
   "metadata": {
    "execution": {
     "iopub.execute_input": "2025-06-06T07:22:19.926800Z",
     "iopub.status.busy": "2025-06-06T07:22:19.926519Z",
     "iopub.status.idle": "2025-06-06T07:22:19.938944Z",
     "shell.execute_reply": "2025-06-06T07:22:19.938035Z"
    },
    "id": "ANgLITAt5j8L",
    "outputId": "6c67be15-2775-4bb6-d655-7e0cb62300b4",
    "papermill": {
     "duration": 0.02461,
     "end_time": "2025-06-06T07:22:19.940401",
     "exception": false,
     "start_time": "2025-06-06T07:22:19.915791",
     "status": "completed"
    },
    "tags": []
   },
   "outputs": [
    {
     "name": "stdout",
     "output_type": "stream",
     "text": [
      "Submission file saved as submission.csv\n"
     ]
    }
   ],
   "source": [
    "submission = pd.DataFrame({\n",
    "    'PassengerId': df_test['PassengerId'],\n",
    "    'Survived': predictions.astype(int)\n",
    "})\n",
    "\n",
    "submission.to_csv(\"submission.csv\", index=False)\n",
    "print(\"Submission file saved as submission.csv\")\n"
   ]
  }
 ],
 "metadata": {
  "colab": {
   "name": "Survival Rate Pred using ML models",
   "provenance": []
  },
  "kaggle": {
   "accelerator": "none",
   "dataSources": [
    {
     "databundleVersionId": 26502,
     "sourceId": 3136,
     "sourceType": "competition"
    },
    {
     "isSourceIdPinned": true,
     "modelId": 318804,
     "modelInstanceId": 298197,
     "sourceId": 357920,
     "sourceType": "modelInstanceVersion"
    }
   ],
   "dockerImageVersionId": 31012,
   "isGpuEnabled": false,
   "isInternetEnabled": true,
   "language": "python",
   "sourceType": "notebook"
  },
  "kernelspec": {
   "display_name": "Python 3",
   "name": "python3"
  },
  "language_info": {
   "codemirror_mode": {
    "name": "ipython",
    "version": 3
   },
   "file_extension": ".py",
   "mimetype": "text/x-python",
   "name": "python",
   "nbconvert_exporter": "python",
   "pygments_lexer": "ipython3",
   "version": "3.11.11"
  },
  "papermill": {
   "default_parameters": {},
   "duration": 327.74383,
   "end_time": "2025-06-06T07:22:21.072290",
   "environment_variables": {},
   "exception": null,
   "input_path": "__notebook__.ipynb",
   "output_path": "__notebook__.ipynb",
   "parameters": {},
   "start_time": "2025-06-06T07:16:53.328460",
   "version": "2.6.0"
  }
 },
 "nbformat": 4,
 "nbformat_minor": 5
}
